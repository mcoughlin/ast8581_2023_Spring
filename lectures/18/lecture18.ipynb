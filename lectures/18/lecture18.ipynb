{
 "cells": [
  {
   "cell_type": "code",
   "execution_count": 1,
   "metadata": {
    "slideshow": {
     "slide_type": "skip"
    }
   },
   "outputs": [],
   "source": [
    "from notebook.services.config import ConfigManager\n",
    "cm = ConfigManager()\n",
    "cm.update('livereveal', {\n",
    "        'width': 1024,\n",
    "        'height': 768,\n",
    "        'scroll': True,\n",
    "})\n",
    "%config InlineBackend.figure_format = 'retina'\n",
    "%matplotlib inline\n",
    "plt.rcParams['figure.figsize'] = [10, 8]"
   ]
  },
  {
   "cell_type": "markdown",
   "metadata": {
    "slideshow": {
     "slide_type": "slide"
    }
   },
   "source": [
    "# Week 10 (Wednesday), AST 8581 / PHYS 8581 / CSCI 8581 / STAT 8581: Big Data in Astrophysics\n",
    "\n",
    "### Michael Coughlin <cough052@umn.edu>, Jie Ding <dingj@umn.edu>\n",
    "\n",
    "\n",
    "with contributions totally ripped off from Federica Bianco (Delaware, Gautham Narayan (UIUC), Michael Steinbach (UMN), and Nico Adams (UMN)\n",
    "\n",
    "## Deep Learning"
   ]
  },
  {
   "cell_type": "markdown",
   "metadata": {},
   "source": [
    "# Where do we stand?\n",
    "\n",
    "Foundations of Data and Probability -> Statistical frameworks (Frequentist vs Bayesian) -> Estimating underlying distributions -> Analysis of Time series (periodicity) -> Analysis of Time series (variability) -> Analysis of Time series (stochastic processes) -> Gaussian Processes -> Decision Trees / Regression -> Dimensionality Reduction -> Principle Component Analysis -> Clustering -> Density Estimation / Anomaly Detection -> Supervised Learning -> Deep Learning"
   ]
  },
  {
   "cell_type": "markdown",
   "metadata": {
    "slideshow": {
     "slide_type": "slide"
    }
   },
   "source": [
    "<table>\n",
    "<thead>\n",
    "  <tr>\n",
    "    <th>Method</th>\n",
    "    <th>Unsupervised</th>\n",
    "    <th>Supervised</th>\n",
    "  </tr>\n",
    "</thead>\n",
    "<tbody>\n",
    "  <tr>\n",
    "    <td>Centroid-based</td>\n",
    "    <td>k-Means</td>\n",
    "    <td>kNN w/ k=1 (aka Nearest Centroid) </td>\n",
    "  </tr>\n",
    "  <tr>\n",
    "    <td>Linkage-based Model</td>\n",
    "    <td>Hierarchical Clustering</td>\n",
    "    <td>Decision Trees/Random Forests</td>\n",
    "  </tr>\n",
    "  <tr>\n",
    "    <td>Parametric Density Model</td>\n",
    "    <td>GMMs, Extreme Deconvolution</td>\n",
    "    <td>Gaussian Naive Bayes, LDA, QDA</td>\n",
    "  </tr>\n",
    "  <tr>\n",
    "    <td>Nonparametric Density/Locally Weighted*</td>\n",
    "    <td>DBSCAN/Optics</td>\n",
    "      <td>kNN with k>1, <strong>SVM, MLPs, DNN</strong></td>\n",
    "  </tr>\n",
    "</tbody>\n",
    "</table>\n",
    "\n",
    "* = KDEs are perfectly useable in either column"
   ]
  },
  {
   "cell_type": "markdown",
   "metadata": {},
   "source": [
    "<img src=\"figures/mindmap.jpg\">"
   ]
  },
  {
   "cell_type": "markdown",
   "metadata": {
    "slideshow": {
     "slide_type": "slide"
    }
   },
   "source": [
    "<img src=\"figures/perceptron1.png\">"
   ]
  },
  {
   "cell_type": "markdown",
   "metadata": {
    "slideshow": {
     "slide_type": "slide"
    }
   },
   "source": [
    "<img src=\"figures/perceptron2.png\">"
   ]
  },
  {
   "cell_type": "markdown",
   "metadata": {
    "slideshow": {
     "slide_type": "slide"
    }
   },
   "source": [
    "<img src=\"figures/perceptron3.png\">"
   ]
  },
  {
   "cell_type": "markdown",
   "metadata": {
    "slideshow": {
     "slide_type": "slide"
    }
   },
   "source": [
    "## OK, but how do we get the weights when this is linear regression, but the output is binary (0, 1)\n",
    "\n",
    "### Recall the discriminant function from Monday:\n",
    "\n",
    "\n",
    "## $$\\begin{eqnarray} \\widehat{y} & = & \\left\\{ \\begin{array}{cl} 1 & \\mbox{if $g(x) > \\theta$}, \\\\ 0 & \\mbox{otherwise,} \\end{array} \\right. \\end{eqnarray}$$\n",
    "\n",
    "Where $\\theta$ is the **threshold**\n",
    "\n",
    "We compare the output vector $y$ to the target/truth $t$ and we want to minimize the error\n",
    "\n",
    "## $$ E = 1/2 \\cdot (t-y)^2$$\n",
    "\n",
    "To minimize the error, we need to change the weights of the inputs to get $t$ close to $y$.\n",
    "\n",
    "Let's do this with our old friend, **gradient descent**\n",
    "\n",
    "## $$w_i = w'_i - \\eta \\cdot \\frac{dE}{dw_i} $$\n",
    "\n",
    "Where $\\eta$ is some constant that we'll call the **learning rate**\n",
    "\n",
    "## $$w_i = w'_i + \\eta \\cdot (t-y) \\cdot\\frac{dy}{dw_i} $$\n",
    "\n",
    "## $$\\frac{dy}{dw_i} = x_i $$\n",
    "\n",
    "so..\n",
    "\n",
    "## $$w_i = w'_i + \\eta \\cdot (t-y) \\cdot x_i $$\n",
    "\n",
    "\n",
    "If $y != t$ (and remember the t is just a 0 or 1):\n",
    "## $$ w_{\\text{new}}  = w_{\\text{old}} + \\eta \\cdot t \\cdot x$$\n",
    "\n",
    "and $y == t$, don't update"
   ]
  },
  {
   "cell_type": "markdown",
   "metadata": {
    "slideshow": {
     "slide_type": "slide"
    }
   },
   "source": [
    "<img src=\"figures/perceptron4.png\">"
   ]
  },
  {
   "cell_type": "markdown",
   "metadata": {
    "slideshow": {
     "slide_type": "slide"
    }
   },
   "source": [
    "<img src=\"figures/perceptron5.png\">"
   ]
  },
  {
   "cell_type": "markdown",
   "metadata": {
    "slideshow": {
     "slide_type": "slide"
    }
   },
   "source": [
    "<img src=\"figures/perceptron6.png\">"
   ]
  },
  {
   "cell_type": "markdown",
   "metadata": {
    "slideshow": {
     "slide_type": "slide"
    }
   },
   "source": [
    "- The Rosenblatt Perceptron uses the class labels to learn model coefficients\n",
    "\n",
    "- The Adaline Neuron uses continuous predicted values (from the net input) to learn the model coefficients, which is more “powerful” since it tells us by “how much” we were right or wrong\n",
    "    - the weights are how sensitive a neuron is \n",
    "    - the activation function turns neurons on/off \n",
    "    - The loss function of the network is updated to penalize models in proportion to the magnitude of their activation\n",
    "    - prevents updating weights when y gets close to t - i.e. prevents overfitting!\n",
    "\n",
    "    \n",
    "## $$w_i = w'_i + \\eta \\cdot (t-y) \\cdot\\frac{df(y)}{dw_i} $$\n",
    "\n",
    "<img src=\"figures/adaline_vs_perceptron.png\">"
   ]
  },
  {
   "cell_type": "markdown",
   "metadata": {},
   "source": [
    "<img src=\"figures/activation_functions.png\">"
   ]
  },
  {
   "cell_type": "markdown",
   "metadata": {},
   "source": [
    "<img src='figures/dl4.png'>"
   ]
  },
  {
   "cell_type": "markdown",
   "metadata": {},
   "source": [
    "<img src='figures/dl5.png'>"
   ]
  },
  {
   "cell_type": "markdown",
   "metadata": {},
   "source": [
    "## In-not actually class-class exercise:\n",
    "\n",
    "https://jalammar.github.io/feedforward-neural-networks-visual-interactive/"
   ]
  },
  {
   "cell_type": "markdown",
   "metadata": {
    "slideshow": {
     "slide_type": "slide"
    }
   },
   "source": [
    "<img src=\"figures/mlp1.png\">"
   ]
  },
  {
   "cell_type": "markdown",
   "metadata": {},
   "source": [
    "<img src=\"figures/mlp2.png\">"
   ]
  },
  {
   "cell_type": "markdown",
   "metadata": {},
   "source": [
    "## Why have one hidden layer when you can have two for twice the price!\n",
    "\n",
    "<img src=\"figures/dnn1.png\">"
   ]
  },
  {
   "cell_type": "markdown",
   "metadata": {},
   "source": [
    "<img src=\"figures/dnn2.png\">"
   ]
  },
  {
   "cell_type": "markdown",
   "metadata": {},
   "source": [
    "<img src='figures/fig-dl2.png'>"
   ]
  },
  {
   "cell_type": "markdown",
   "metadata": {},
   "source": [
    "# Types of neural networks\n",
    "## - \"Neural Network Zoo\" (Asimov Institute)\n",
    "<img src=\"http://www.asimovinstitute.org/wp-content/uploads/2016/09/neuralnetworks.png\">\n"
   ]
  },
  {
   "cell_type": "markdown",
   "metadata": {},
   "source": [
    "This is clearly much more sophisticated than our basic perceptron. \"Deep\" networks consist of tens of layers with thousands of neurons. These large networks have become usable thanks to two breakthroughs: the use of sparse layers and the power of graphics processing units (GPUs).\n",
    "Many image processing tasks involve convolving an image with a 2-dimensional kernel as shown below.\n",
    "![Convolution example](https://developer.apple.com/library/content/documentation/Performance/Conceptual/vImage/Art/kernel_convolution.jpg)\n",
    "\n",
    "The sparse layers or convolutional layers in a deep network contain a large number of hidden nodes but very few synapses. The sparseness arises from the relatively small size of a typical convolution kernel (15x15 is a large kernel), so a hidden node representing one output of the convolution is connected to only a few input nodes. Compare this the our previous perceptron, in which every hidden node was connected to every input node.\n",
    "\n",
    "Even though the total number of connections is greatly reduced in the sparse layers, the total number of nodes and connections in a modern deep network is still enormous. Luckily, training these networks turns out to be a great task for GPU acceleration! Serious work using neural networks is almost always done usign specialized GPU-accelerated platforms."
   ]
  },
  {
   "cell_type": "markdown",
   "metadata": {},
   "source": [
    "# Deep learning frameworks\n",
    "\n",
    "## - Python(-compatible) - like sklearn only for NN models:\n",
    "- Tensorflow (Google)\n",
    "- Keras (frontend for TensorFlow + Theano)\n",
    "- Theano (Université de Montréal)\n",
    "- Caffe (UC Berkeley)\n",
    "- CNTK (Microsoft)\n",
    "- MXNet (Amazon+Baidu+...)"
   ]
  },
  {
   "cell_type": "markdown",
   "metadata": {},
   "source": [
    "# In-class warm-up: Implementing a simple MLP Classifier with `sklearn`\n",
    "\n",
    "Our neural network will take an $\\mathbf{x} = (x_1, x_2)$ vector as input and output a $K$-dimensional vector $\\mathbf{p}=(p_1,\\dots,p_K)$ of class probabilities. For simplicity we'll focus on a single choice of activation function, the ReLU function $f(x) = \\max(x, 0)$."
   ]
  },
  {
   "cell_type": "code",
   "execution_count": 1,
   "metadata": {},
   "outputs": [],
   "source": [
    "# Imports / plotting configuration\n",
    "import numpy as np\n",
    "%matplotlib inline\n",
    "import matplotlib.pyplot as plt\n",
    "import seaborn as sns\n",
    "sns.set_context('poster')\n",
    "plt.rcParams['image.interpolation'] = 'nearest'  # hard classification boundaries\n",
    "plt.rcParams['image.cmap'] = 'viridis'\n",
    "np.random.seed(13)"
   ]
  },
  {
   "cell_type": "code",
   "execution_count": 2,
   "metadata": {},
   "outputs": [],
   "source": [
    "# Generate spiral sample data\n",
    "# N = num points\n",
    "# K = num spiral arms\n",
    "# sigma = some noise\n",
    "def spiral_data(N, K=3, sigma=0.1):\n",
    "    X = np.zeros((N * K, 2))\n",
    "    y = np.zeros(N * K, dtype='int')\n",
    "\n",
    "    for j in range(K):\n",
    "        ix = range(N * j, N * (j + 1))\n",
    "        r = np.linspace(0.0, 1, N)  # radius\n",
    "        theta = 2 * np.pi * j / K + np.linspace(0, 3 * np.pi, N) + np.random.randn(N) * sigma\n",
    "        X[ix] = np.c_[r * np.sin(theta), r * np.cos(theta)]\n",
    "        y[ix] = j\n",
    "        \n",
    "    return X, y"
   ]
  },
  {
   "cell_type": "code",
   "execution_count": 3,
   "metadata": {},
   "outputs": [
    {
     "data": {
      "image/png": "[encoded data removed]",
      "text/plain": [
       "<Figure size 432x288 with 1 Axes>"
      ]
     },
     "metadata": {
      "needs_background": "light"
     },
     "output_type": "display_data"
    }
   ],
   "source": [
    "N = 100\n",
    "K = 3\n",
    "X, y = spiral_data(N, K, 0.1)\n",
    "\n",
    "# Visualize the generated data\n",
    "fig = plt.figure()\n",
    "plt.scatter(X[:, 0], X[:, 1], c=y, s=40, cmap='viridis')\n",
    "plt.xlim([-1, 1])\n",
    "plt.ylim([-1, 1]);"
   ]
  },
  {
   "cell_type": "code",
   "execution_count": 4,
   "metadata": {},
   "outputs": [],
   "source": [
    "from sklearn.base import BaseEstimator, ClassifierMixin\n",
    "\n",
    "class SingleLayerReLU(BaseEstimator, ClassifierMixin):\n",
    "    \"\"\"Skeleton code for single-layer multi-class neural network classifier w/ ReLU activation.\n",
    "    NOTE: Whenever you change the code below, you need to re-run this cell AND re-initialize\n",
    "    your model (`model = SingleLayerNet(...)`) in order to update your specific `model` object.\n",
    "    \"\"\"\n",
    "    def __init__(self, hidden_size, num_classes, sigma_init=0.01):\n",
    "        \"\"\"Initialize weights with Gaussian noise scaled by `sigma_init` and\n",
    "        biases with zeros.\n",
    "        \"\"\"\n",
    "        self.hidden_size = hidden_size\n",
    "        self.num_classes = num_classes\n",
    "        self.W1 = sigma_init * np.random.randn(hidden_size, 2)\n",
    "        self.W2 = sigma_init * np.random.randn(num_classes, hidden_size)\n",
    "        self.b1 = np.zeros(hidden_size)\n",
    "        self.b2 = np.zeros(num_classes)\n",
    "    \n",
    "    def loss(self, y, P):\n",
    "        \"\"\"Compute total softmax loss.\n",
    "        Inputs:  y -> (N,) array of true (integer) labels\n",
    "                 p -> (N, K) array of predicted probabilities\n",
    "        Outputs: L -> total loss value       \n",
    "        \"\"\"\n",
    "        return -np.sum(np.log(P[range(len(P)), y]))\n",
    "        \n",
    "    def dloss(self, X, y):\n",
    "        \"\"\"Compute gradient of softmax loss with respect to network weights.\n",
    "        Inputs:  X -> (N, 2) array of network inputs\n",
    "                 y -> (N,) array of true labels\n",
    "        Outputs: dW1 -> (hidden_size, 2) array of weight derivatives\n",
    "                 dW2 -> (hidden_size, 2) array of weight derivatives\n",
    "                 db1 -> (hidden_size,) array of bias derivatives\n",
    "                 db2 -> (hidden_size,) array of bias derivatives\n",
    "        \"\"\"\n",
    "        H = np.maximum(0, X @ self.W1.T + self.b1)  # ReLU activation\n",
    "        Z = H @ self.W2.T + self.b2\n",
    "        P = np.exp(Z) / np.sum(np.exp(Z), axis=1, keepdims=True)\n",
    "\n",
    "        dZ = P\n",
    "        dZ[range(len(X)), y] -= 1\n",
    "\n",
    "        dW2 = (H.T @ dZ).T\n",
    "        db2 = np.sum(dZ, axis=0)\n",
    "\n",
    "        dH = dZ @ self.W2\n",
    "        dH[H <= 0] = 0  # backprop ReLU  activation\n",
    "\n",
    "        dW1 = (X.T @ dH).T\n",
    "        db1 = np.sum(dH, axis=0)\n",
    "        \n",
    "        return (dW1, dW2, db1, db2)\n",
    "\n",
    "    def predict_proba(self, X):\n",
    "        \"\"\"Compute forward pass for all input values.\n",
    "        Inputs:  X -> (N, 2) array of network inputs\n",
    "        Outputs: P -> (N, K) array of class probabilities\n",
    "        \"\"\"\n",
    "        H = np.maximum(0, X @ self.W1.T + self.b1)  # ReLU activation\n",
    "        Z = H @ self.W2.T + self.b2\n",
    "        P = np.exp(Z) / np.sum(np.exp(Z), axis=1, keepdims=True)\n",
    "        \n",
    "        return P\n",
    "        \n",
    "    def predict(self, X):\n",
    "        \"\"\"Compute most likely class labels for all input values.\n",
    "        Inputs:  X -> (N, 2) array of network inputs\n",
    "        Outputs: P -> (N, K) array of class probabilities\n",
    "        \"\"\"\n",
    "        P = self.predict_proba(X)\n",
    "        return np.argmax(P, 1)\n",
    "        \n",
    "    def fit(self, X, y, step_size=3e-3, n_iter=10000):\n",
    "        \"\"\"Optimize model parameters W1, W2, b1, b2 via gradient descent.\n",
    "        Inputs:  X -> (N, 2) array of network inputs\n",
    "                 y -> (N,) array of true labels\n",
    "                 step_size -> gradient descent step size\n",
    "                 n_iter -> number of gradient descent steps to perform\n",
    "        Outputs: losses -> (n_iter,) array of loss values after each step\n",
    "        \"\"\"\n",
    "        losses = np.zeros(n_iter + 1)\n",
    "        for i in range(0, n_iter + 1):\n",
    "            dW1, dW2, db1, db2 = self.dloss(X, y)\n",
    "            self.W1 -= step_size * dW1\n",
    "            self.W2 -= step_size * dW2\n",
    "            self.b1 -= step_size * db1\n",
    "            self.b2 -= step_size * db2\n",
    "            \n",
    "            P = self.predict_proba(X)\n",
    "            losses[i] = self.loss(y, P)\n",
    "            \n",
    "            if i % 1000 == 0:\n",
    "                print(\"Iteration {}: loss={}\".format(i, losses[i]))\n",
    "        return losses"
   ]
  },
  {
   "cell_type": "code",
   "execution_count": 5,
   "metadata": {},
   "outputs": [],
   "source": [
    "def visualize_predictions(model, X, y, step=0.02):\n",
    "    x_min, x_max = X[:, 0].min(), X[:, 0].max()\n",
    "    y_min, y_max = X[:, 1].min(), X[:, 1].max()\n",
    "    xx, yy = np.meshgrid(np.arange(x_min, x_max, step), np.arange(y_min, y_max, step))\n",
    "    Z = model.predict(np.c_[xx.ravel(), yy.ravel()])\n",
    "    Z = Z.reshape(xx.shape)\n",
    "    plt.contourf(xx, yy, Z, alpha=0.8)\n",
    "    plt.scatter(X[:, 0], X[:, 1], c=y, s=40)\n",
    "    plt.xlim(xx.min(), xx.max())\n",
    "    plt.ylim(yy.min(), yy.max())\n",
    "    plt.title(\"Accuracy: {}%\".format(100 * np.mean(y == model.predict(X))))"
   ]
  },
  {
   "cell_type": "code",
   "execution_count": null,
   "metadata": {},
   "outputs": [],
   "source": [
    "model = SingleLayerReLU(...\n",
    "visualize_predictions(model, X, y)"
   ]
  },
  {
   "cell_type": "code",
   "execution_count": null,
   "metadata": {},
   "outputs": [],
   "source": [
    "model = SingleLayerReLU(...\n",
    "losses = model.fit(...\n",
    "plt.plot(losses, '-')\n",
    "plt.xlabel('Iteration')\n",
    "plt.ylabel('Total loss');\n",
    "plt.figure()"
   ]
  },
  {
   "cell_type": "code",
   "execution_count": null,
   "metadata": {},
   "outputs": [],
   "source": [
    "visualize_predictions(model, X, y)"
   ]
  },
  {
   "cell_type": "code",
   "execution_count": null,
   "metadata": {},
   "outputs": [],
   "source": [
    "from sklearn.neural_network import MLPClassifier\n",
    "\n",
    "X, y = spiral_data(100, 5, 0.1)\n",
    "single_layer_model = MLPClassifier(...\n",
    "single_layer_model.fit(X, y)"
   ]
  },
  {
   "cell_type": "code",
   "execution_count": null,
   "metadata": {},
   "outputs": [],
   "source": [
    "visualize_predictions(single_layer_model, X, y)"
   ]
  },
  {
   "cell_type": "code",
   "execution_count": null,
   "metadata": {},
   "outputs": [],
   "source": [
    "X, y = spiral_data(100, 3, 0.1)\n",
    "multi_layer_model = MLPClassifier(...\n",
    "multi_layer_model.fit(...\n",
    "visualize_predictions(multi_layer_model, X, y)"
   ]
  },
  {
   "cell_type": "code",
   "execution_count": null,
   "metadata": {},
   "outputs": [],
   "source": [
    "# you can view the activations of the final layer if needed\n",
    "\n",
    "from copy import deepcopy\n",
    "\n",
    "X, y = spiral_data(100, 2, 0.1)\n",
    "multi_layer_model = MLPClassifier(...\n",
    "multi_layer_model.fit(...\n",
    "visualize_predictions(multi_layer_model, X, y)\n",
    "\n",
    "def visualize_activations(model, unit, X, y, step=0.02):\n",
    "    \"\"\"Visualize activations of ith neuron of last layer.\"\"\"\n",
    "    model = deepcopy(model)\n",
    "    model.coefs_[-1][:unit] = 0  # zero out other units\n",
    "    model.coefs_[-1][unit] = 1  # just want the activation function\n",
    "    model.coefs_[-1][(unit + 1):] = 0  # zero out other units\n",
    "    \n",
    "    x_min, x_max = X[:, 0].min(), X[:, 0].max()\n",
    "    y_min, y_max = X[:, 1].min(), X[:, 1].max()\n",
    "    xx, yy = np.meshgrid(np.arange(x_min, x_max, step), np.arange(y_min, y_max, step))\n",
    "    Z = model.predict_proba(np.c_[xx.ravel(), yy.ravel()])[:, 0]\n",
    "    Z = Z.reshape(xx.shape)\n",
    "    plt.contourf(xx, yy, Z, alpha=0.8)\n",
    "    plt.scatter(X[:, 0], X[:, 1], c=y, s=40)\n",
    "    plt.xlim(xx.min(), xx.max())\n",
    "    plt.ylim(yy.min(), yy.max())\n",
    "    \n",
    "fig, ax = plt.subplots(3, 2, figsize=(14, 20))\n",
    "for i in range(len(multi_layer_model.coefs_[-1])):\n",
    "    plt.sca(ax.ravel()[i])\n",
    "    visualize_activations(multi_layer_model, i, X, y)"
   ]
  },
  {
   "cell_type": "markdown",
   "metadata": {},
   "source": [
    "# Demo for later\n",
    "## [http://playground.tensorflow.org](http://playground.tensorflow.org/#dataset=spiral)"
   ]
  },
  {
   "cell_type": "markdown",
   "metadata": {
    "Collapsed": "false"
   },
   "source": [
    "## In-class exercise: Subtraction of Sinusoidal Noise\n",
    "=================================================\n",
    "\n",
    "In this example, we will do a simple regression problem where an unwanted constant frequency is added to the desired output signal as follows\n",
    "\n",
    "\\begin{align}\n",
    "s(t) &= \\sin(2\\pi f_s t)\\quad \\text{true signal we want}\\\\\n",
    "n(t) &= A_n \\sin(2\\pi f_n t + \\phi_n)\\quad \\text{noise we want the network to subtract}\\\\\n",
    "d(t) &= s(t) + n(t) \\quad \\text{the system output is the signal}\n",
    "\\end{align}\n",
    "\n",
    "The trick with this regression problem is that we only get to see $d(t)$ and $n(t)$ so we don't actually have the target. Even worse, we may have very little information (in the real world) about what $s(t)$ actually looks like so ensuring that the networks are 'well-behaved' is critical. \n",
    "\n",
    "We will again use the mean square error as our cost function. Therefore, the network will aim to minimize \n",
    "\n",
    "\\begin{equation}\n",
    "J = \\sum_i^{N-1} \\left(d(t_i) - f[n(t_i)]\\right)^2\n",
    "\\end{equation}\n",
    "\n",
    "where the function on the noise (the 'witness channel') is adjusting the phase and amplitude of the noise until it is able to reduce the MSE as much as possible. NOTE: The lowest possible value of the MSE is not zero, it is \n",
    "\n",
    "\\begin{equation}\n",
    "J_{min} = \\sum_i^{N-1} s^2(t_i) = \\frac{1}{2}\n",
    "\\end{equation}"
   ]
  },
  {
   "cell_type": "code",
   "execution_count": 1,
   "metadata": {
    "Collapsed": "false"
   },
   "outputs": [
    {
     "name": "stderr",
     "output_type": "stream",
     "text": [
      "Using TensorFlow backend.\n"
     ]
    }
   ],
   "source": [
    "# do imports\n",
    "import matplotlib\n",
    "#matplotlib.use('agg')\n",
    "import matplotlib.pyplot as plt\n",
    "%matplotlib inline\n",
    "import numpy as np\n",
    "import scipy.io as sio\n",
    "import scipy.signal as sig\n",
    "\n",
    "np.random.seed(3301)\n",
    "from keras.models import Sequential\n",
    "from keras.layers import Dense, LSTM"
   ]
  },
  {
   "cell_type": "code",
   "execution_count": 2,
   "metadata": {
    "Collapsed": "false"
   },
   "outputs": [],
   "source": [
    "# let's define the signals\n",
    "dur = 32\n",
    "sample_rate = 128\n",
    "true_freq = 13.4\n",
    "noise_freq = 5.8\n",
    "noise_phase = np.pi/4\n",
    "noise_amp = 0.25\n",
    "t = np.linspace(0, dur, dur*sample_rate)\n",
    "s = np.sin(2*np.pi*true_freq * t)\n",
    "n = noise_amp * np.sin(2*np.pi*noise_freq*t + noise_phase)\n",
    "\n",
    "# when we generate the signal, we will adjust the phase so that the witness to the noise it out of phase.\n",
    "# this will force the network to learn the phase as well as the amplitude\n",
    "d = s + noise_amp * np.sin(2*np.pi*noise_freq*t)  # this is the last time that we will reference 's' until the end"
   ]
  },
  {
   "cell_type": "code",
   "execution_count": 3,
   "metadata": {
    "Collapsed": "false"
   },
   "outputs": [
    {
     "data": {
      "image/png": "[encoded data removed]",
      "text/plain": [
       "<Figure size 432x288 with 1 Axes>"
      ]
     },
     "metadata": {
      "needs_background": "light"
     },
     "output_type": "display_data"
    }
   ],
   "source": [
    "# plot the combined system output and the noise\n",
    "vis = 2 * sample_rate\n",
    "plt.plot(t[:vis], d[:vis], label='System Output Signal')\n",
    "plt.plot(t[:vis], n[:vis], label='Noise')\n",
    "plt.legend()\n",
    "plt.xlabel('Time [s]')\n",
    "plt.ylabel('Amplitude')\n",
    "plt.show()\n",
    "plt.close()"
   ]
  },
  {
   "cell_type": "markdown",
   "metadata": {
    "Collapsed": "false"
   },
   "source": [
    "Before we construct the network architecture for this problem, let's think about what we need:\n",
    "\n",
    "  - The noise is added linearly, so we only need linear activation functions\n",
    "  - The only adjustable parameters are the phase angle and the amplitude of the noise\n",
    "\n",
    "This means that a linear feed-forward network with 2 neurons should be enough to capture the dependence of the noise on the system. Usually we will not have this much information, so we have to try to overtrain the network (ensure it *can* converge, and then shrink the parameter space until we have good results and no overtraining)\n",
    "\n",
    "Let's first split our data into training and testing sets and then create the network for this problem"
   ]
  },
  {
   "cell_type": "code",
   "execution_count": 4,
   "metadata": {
    "Collapsed": "false"
   },
   "outputs": [],
   "source": [
    "# make training and testing data\n",
    "# let's train on 24 seconds and test on 8\n",
    "x_train = n[:24*sample_rate]\n",
    "y_train = d[:24*sample_rate]\n",
    "\n",
    "x_test = n[24*sample_rate:]\n",
    "y_test = d[24*sample_rate:]"
   ]
  },
  {
   "cell_type": "code",
   "execution_count": null,
   "metadata": {
    "Collapsed": "false"
   },
   "outputs": [],
   "source": [
    "# build the network. We will output 1 data point for each input point. So this network is \"one-to-one\" or \"single-in-single-out\"\n",
    "model = Sequential()\n",
    "model.add(Dense(2, input_dim=1, activation='linear'))\n",
    "model.add(...\n",
    "model.compile(...\n",
    "history = model.fit(...\n",
    "y_hat = model.predict(x_test)"
   ]
  },
  {
   "cell_type": "code",
   "execution_count": null,
   "metadata": {
    "Collapsed": "false"
   },
   "outputs": [],
   "source": [
    "# let's log the loss functions and plot them \n",
    "train_loss = history.history['loss']\n",
    "val_loss = history.history['val_loss']\n",
    "\n",
    "plt.plot(train_loss, label='Training Loss')\n",
    "plt.plot(val_loss, label='Validation Loss')\n",
    "plt.axhline(0.5, color='black', ls='--')\n",
    "plt.legend()\n",
    "plt.title('Loss History')\n",
    "plt.xlabel('Epochs')\n",
    "plt.ylabel('Loss (MSE)')\n",
    "plt.show('sine_loss.png')\n",
    "plt.close()"
   ]
  },
  {
   "cell_type": "code",
   "execution_count": null,
   "metadata": {
    "Collapsed": "false"
   },
   "outputs": [],
   "source": [
    "y_hat = y_hat.reshape(y_hat.size)\n",
    "clean = y_test - y_hat\n",
    "mse = ((clean[-2*sample_rate:] - s[-2*sample_rate:])**2).mean()\n",
    "plt.plot(t[30*sample_rate:], s[30*sample_rate:], label='True Signal')\n",
    "plt.plot(t[30*sample_rate:], clean[-2*sample_rate:], label='True Signal Estimate', ls='--')\n",
    "plt.plot(t[30*sample_rate:], (clean[-2*sample_rate:]-s[30*sample_rate:]), label='Residual')\n",
    "plt.legend()\n",
    "plt.title('MSE = {}'.format(mse))\n",
    "plt.xlabel('Time [s]')\n",
    "plt.ylabel('Amplitude')\n",
    "plt.show()\n",
    "plt.close()"
   ]
  },
  {
   "cell_type": "code",
   "execution_count": null,
   "metadata": {
    "Collapsed": "false"
   },
   "outputs": [],
   "source": [
    "noise_floor = 0.01 * np.random.rand(s.size)\n",
    "freq, clean_psd = sig.welch(clean+noise_floor[:clean.size], fs=sample_rate, nperseg=sample_rate*8)\n",
    "_, signal_psd = sig.welch(s+noise_floor, fs=sample_rate, nperseg=sample_rate*8)\n",
    "_, d_psd = sig.welch(d+noise_floor, fs=sample_rate, nperseg=sample_rate*8)\n",
    "plt.semilogy(freq, d_psd, label='System Signal')\n",
    "plt.semilogy(freq, signal_psd, label='True Signal')\n",
    "plt.semilogy(freq, clean_psd, label='True Signal Estimate')\n",
    "plt.axvline(noise_freq, label='$f_n={}$ Hz'.format(noise_freq), ls='--', color='black')\n",
    "plt.axvline(true_freq, label='$f_s={}$ Hz'.format(true_freq), ls='--', color='black')\n",
    "plt.legend(loc='upper right')\n",
    "plt.xlabel('Frequency [Hz]')\n",
    "plt.ylabel('Power Spectral Density')\n",
    "plt.xlim([3, 30])\n",
    "plt.ylim([1e-9, 1e2])\n",
    "plt.grid(True)\n",
    "plt.title('PSD of Target and Network Output')\n",
    "plt.show()\n",
    "plt.close()"
   ]
  },
  {
   "cell_type": "markdown",
   "metadata": {
    "Collapsed": "false"
   },
   "source": [
    "Hmm, this doesn't look very good. The network has not gotten rid of the noise power at $5.8$ Hz. Why is this? Well, to first give you a hint, let us rerun the network, but this time, we will not make any adjustments to the phase of the input signals"
   ]
  },
  {
   "cell_type": "code",
   "execution_count": null,
   "metadata": {
    "Collapsed": "false"
   },
   "outputs": [],
   "source": [
    "d = s + n\n",
    "\n",
    "x_train = n[:24*sample_rate]\n",
    "y_train = d[:24*sample_rate]\n",
    "\n",
    "x_test = n[24*sample_rate:]\n",
    "y_test = d[24*sample_rate:]\n",
    "\n",
    "model = Sequential()\n",
    "model.add(...\n",
    "model.add(...\n",
    "model.compile(...\n",
    "history = model.fit(...\n",
    "y_hat = model.predict(x_test)\n",
    "y_hat = y_hat.reshape(y_hat.size)\n",
    "\n",
    "# let's log the loss functions and plot them \n",
    "train_loss = history.history['loss']\n",
    "val_loss = history.history['val_loss']\n",
    "plt.plot(train_loss, label='Training Loss')\n",
    "plt.plot(val_loss, label='Validation Loss')\n",
    "plt.axhline(0.5, color='black', ls='--')\n",
    "plt.legend()\n",
    "plt.title('Loss History')\n",
    "plt.xlabel('Epochs')\n",
    "plt.ylabel('Loss (MSE)')\n",
    "plt.show('addition_loss.png')\n",
    "plt.close()\n",
    "\n",
    "clean = y_test - y_hat\n",
    "mse = ((clean[-2*sample_rate:] - s[-2*sample_rate:])**2).mean()\n",
    "plt.plot(t[30*sample_rate:], s[30*sample_rate:], label='True Signal')\n",
    "plt.plot(t[30*sample_rate:], clean[-2*sample_rate:], label='True Signal Estimate', ls='--')\n",
    "plt.plot(t[30*sample_rate:], (clean[-2*sample_rate:]-s[30*sample_rate:]), label='Residual')\n",
    "plt.legend()\n",
    "plt.title('MSE = {}'.format(mse))\n",
    "plt.xlabel('Time [s]')\n",
    "plt.ylabel('Amplitude')\n",
    "plt.show()\n",
    "plt.close()\n",
    "\n",
    "noise_floor = 0.01 * np.random.rand(s.size)\n",
    "freq, clean_psd = sig.welch(clean+noise_floor[:clean.size], fs=sample_rate, nperseg=sample_rate*8)\n",
    "_, signal_psd = sig.welch(s+noise_floor, fs=sample_rate, nperseg=sample_rate*8)\n",
    "_, d_psd = sig.welch(d+noise_floor, fs=sample_rate, nperseg=sample_rate*8)\n",
    "plt.semilogy(freq, d_psd, label='System Signal')\n",
    "plt.semilogy(freq, signal_psd, label='True Signal')\n",
    "plt.semilogy(freq, clean_psd, label='True Signal Estimate')\n",
    "plt.axvline(noise_freq, label='$f_n={}$ Hz'.format(noise_freq), ls='--', color='black', alpha=0.5)\n",
    "plt.axvline(true_freq, label='$f_s={}$ Hz'.format(true_freq), ls='--', color='black', alpha=0.5)\n",
    "plt.legend(loc='upper right')\n",
    "plt.xlabel('Frequency [Hz]')\n",
    "plt.ylabel('Power Spectral Density')\n",
    "plt.xlim([3, 30])\n",
    "plt.ylim([1e-9, 1e2])\n",
    "plt.grid(True)\n",
    "plt.title('PSD of Target and Network Output')\n",
    "plt.show()\n",
    "plt.close()"
   ]
  },
  {
   "cell_type": "markdown",
   "metadata": {
    "Collapsed": "false"
   },
   "source": [
    "This is a vast improvement. Evidently, the additional phase gave the network problems. The reason is because of the way we trained, namely, as a \"one-to-one\" network. When we feed in 1 time-step at a time, there's not a great way to put into context that there has been a phase shift.\n",
    "\n",
    "We can even explain the final loss value of 0.5166. We know that 0.5 of this should come from the true signal. But what about the last 0.0166? The amplitude of the noise is 1/4 and the average of the sine gives us a 1/2 so we end up with $\\left(\\frac{1}{2}\\right)^2 \\left(\\frac{1}{4}\\right)^2 = \\frac{1}{64} = 0.0156$ which is within 1 part in 1000. \n",
    "\n",
    "Try adjusting the amplitude of the noise to say 0.5 instead of 0.25 and you should find a residual of about $\\frac{1}{2} + \\left(\\frac{1}{2}\\right)^2\\left(\\frac{1}{2}\\right)^2 =\\frac{1}{2}+\\frac{1}{16} = 0.5625$ (on doing this I get 0.5637)"
   ]
  },
  {
   "cell_type": "markdown",
   "metadata": {
    "Collapsed": "false"
   },
   "source": [
    "## Adding \"Context\" to the Network\n",
    "\n",
    "The base question here is this: How do we get the network to 'know' that there is a just a phase shift of a sine wave and it has the correct information to regress the noise? The short answer is that we need to show it 'chunks' of data at a time, rather than individual points. We will also need a network big enough that the weights are able to accurately 'shift' each data point by the correct amount of steps. "
   ]
  },
  {
   "cell_type": "code",
   "execution_count": 10,
   "metadata": {
    "Collapsed": "false"
   },
   "outputs": [],
   "source": [
    "# let's define the signals\n",
    "dur = 512\n",
    "sample_rate = 128\n",
    "true_freq = 13.4\n",
    "noise_freq = 5.8\n",
    "noise_phase = np.pi/2\n",
    "noise_amp = 0.25\n",
    "t = np.linspace(0, dur, dur*sample_rate)\n",
    "s = np.sin(2*np.pi*true_freq * t)\n",
    "n = noise_amp * np.sin(2*np.pi*noise_freq*t + noise_phase)\n",
    "d = s + noise_amp * np.sin(2*np.pi*noise_freq*t)  # phase shifted input"
   ]
  },
  {
   "cell_type": "code",
   "execution_count": 11,
   "metadata": {
    "Collapsed": "false"
   },
   "outputs": [
    {
     "name": "stdout",
     "output_type": "stream",
     "text": [
      "(512, 128) (512, 128)\n"
     ]
    }
   ],
   "source": [
    "# let us again make the training and testing data, but this time we wil split the data into 1 second chunks\n",
    "input_data = np.zeros((dur, sample_rate))\n",
    "target_data = np.zeros((dur, sample_rate))\n",
    "for ii in range(dur):\n",
    "    st = ii*sample_rate\n",
    "    et = (ii+1)*sample_rate\n",
    "    input_data[ii, :] = n[st:et]\n",
    "    target_data[ii, :] = d[st:et]\n",
    "\n",
    "print(input_data.shape, target_data.shape)"
   ]
  },
  {
   "cell_type": "markdown",
   "metadata": {
    "Collapsed": "false"
   },
   "source": [
    "We now have 512 samples, each 1 second long. Like before, we will train on the first 504s and test on the last 8. We can now make the training and testing data"
   ]
  },
  {
   "cell_type": "code",
   "execution_count": 12,
   "metadata": {
    "Collapsed": "false"
   },
   "outputs": [
    {
     "name": "stdout",
     "output_type": "stream",
     "text": [
      "x_train, y_train (504, 128) (504, 128)\n",
      "x_test, y_test (8, 128) (8, 128)\n"
     ]
    }
   ],
   "source": [
    "train_dur = 504  # seconds\n",
    "x_train = input_data[:train_dur, :]\n",
    "y_train = target_data[:train_dur, :]\n",
    "\n",
    "x_test = input_data[train_dur:, :]\n",
    "y_test = target_data[train_dur:, :]\n",
    "\n",
    "print('x_train, y_train', x_train.shape, y_train.shape)\n",
    "print('x_test, y_test', x_test.shape, y_test.shape)"
   ]
  },
  {
   "cell_type": "markdown",
   "metadata": {
    "Collapsed": "false"
   },
   "source": [
    "We can now design our network. Keep in mind, the final output is not a scalar, but rather a vector with dimension equal to the sample rate, i.e, a 1 second prediction. Therefore the final layer of our network must be of this same size."
   ]
  },
  {
   "cell_type": "code",
   "execution_count": null,
   "metadata": {
    "Collapsed": "false"
   },
   "outputs": [],
   "source": [
    "model = Sequential()  # so far so good\n",
    "model.add(Dense(2*sample_rate, input_dim=x_train.shape[1], activation='linear'))\n",
    "model.add(Dense(sample_rate))\n",
    "model.compile(loss='mse', optimizer='adam')\n",
    "history = model.fit(x_train, y_train, epochs=50, validation_data=(x_test, y_test), batch_size=sample_rate//2)\n",
    "y_hat = model.predict(x_test)"
   ]
  },
  {
   "cell_type": "code",
   "execution_count": null,
   "metadata": {
    "Collapsed": "false"
   },
   "outputs": [],
   "source": [
    "print(y_hat.shape)"
   ]
  },
  {
   "cell_type": "code",
   "execution_count": null,
   "metadata": {
    "Collapsed": "false"
   },
   "outputs": [],
   "source": [
    "# let's log the loss functions and plot them \n",
    "train_loss = history.history['loss']\n",
    "val_loss = history.history['val_loss']\n",
    "plt.plot(train_loss, label='Training Loss')\n",
    "plt.plot(val_loss, label='Validation Loss')\n",
    "plt.axhline(0.5, ls='--', color='black')\n",
    "plt.legend()\n",
    "plt.title('Loss History')\n",
    "plt.xlabel('Epochs')\n",
    "plt.ylabel('Loss (MSE)')\n",
    "plt.show()\n",
    "plt.close()"
   ]
  },
  {
   "cell_type": "code",
   "execution_count": null,
   "metadata": {
    "Collapsed": "false"
   },
   "outputs": [],
   "source": [
    "clean = y_test.flatten() - y_hat.flatten()\n",
    "mse = ((clean - s[-sample_rate*8:])**2).mean()\n",
    "\n",
    "\n",
    "time = np.linspace(0, 1, sample_rate)\n",
    "plt.plot(time, y_test.flatten()[-sample_rate:], label='System Signal', lw=3.0)\n",
    "plt.plot(time, s[-sample_rate:], label='True Signal', lw=2.0)\n",
    "plt.plot(time, clean[-sample_rate:], label='Cleaned Estimate', ls='--')\n",
    "plt.legend(loc='upper right')\n",
    "plt.grid(True)\n",
    "plt.xlabel('Time [s]')\n",
    "plt.title('Estimate vs True Signal')\n",
    "plt.show()\n",
    "plt.close()\n",
    "\n",
    "\n",
    "noise_floor = 0.01 * np.random.rand(sample_rate*8)\n",
    "freq, clean_psd = sig.welch(clean+noise_floor, fs=sample_rate, nperseg=sample_rate*8)\n",
    "_, signal_psd = sig.welch(s[-sample_rate*8:]+noise_floor, fs=sample_rate, nperseg=sample_rate*8)\n",
    "_, d_psd = sig.welch(d[-sample_rate*8:]+noise_floor, fs=sample_rate, nperseg=sample_rate*8)\n",
    "plt.semilogy(freq, d_psd, label='System Signal')\n",
    "plt.semilogy(freq, signal_psd, label='True Signal')\n",
    "plt.semilogy(freq, clean_psd, label='True Signal Estimate')\n",
    "plt.axvline(noise_freq, label='$f_n={}$ Hz'.format(noise_freq), ls='--', color='black', alpha=0.5)\n",
    "plt.axvline(true_freq, label='$f_s={}$ Hz'.format(true_freq), ls='--', color='black', alpha=0.5)\n",
    "plt.legend(loc='upper right')\n",
    "plt.xlabel('Frequency [Hz]')\n",
    "plt.ylabel('Power Spectral Density')\n",
    "plt.xlim([3,30])\n",
    "plt.ylim([1e-9, 1e2])\n",
    "plt.grid(True)\n",
    "plt.title('PSD of Target and Network Output')\n",
    "plt.show()\n",
    "plt.close()"
   ]
  },
  {
   "cell_type": "markdown",
   "metadata": {
    "Collapsed": "false"
   },
   "source": [
    "This is certainly looking better. We have removed the noise power from the extra `sin` channel without knowing the phase ahead of time. This isn't perfect, and we could do some tuning if we wanted get a bit more out of this network, but 5 orders of magnitude of supression out of the noise power is good enough for this simple demonstration. "
   ]
  },
  {
   "cell_type": "markdown",
   "metadata": {
    "Collapsed": "false"
   },
   "source": [
    "## RNN Network for Linear Sine Regression\n",
    "\n",
    "Let us again add \"context\" to the network, this time by way of RNNs instead of using feed-forward \"chunks.\""
   ]
  },
  {
   "cell_type": "code",
   "execution_count": 18,
   "metadata": {
    "Collapsed": "false"
   },
   "outputs": [],
   "source": [
    "from keras.layers import Dense, SimpleRNN"
   ]
  },
  {
   "cell_type": "code",
   "execution_count": 19,
   "metadata": {
    "Collapsed": "false"
   },
   "outputs": [],
   "source": [
    "def do_lookback(data, steps=1, validation=False):\n",
    "    temp = np.zeros((data.shape[0] - steps, steps + 1, data.shape[1]))\n",
    "    temp[:, 0, :] = data[steps:, :]\n",
    "    for i in range(temp.shape[0]):\n",
    "        temp[i, 1:] = data[i:i + steps][::-1]\n",
    "\n",
    "    if validation:\n",
    "        temp = temp.reshape((temp.shape[0], temp.shape[1]))\n",
    "\n",
    "    for i in range(temp.shape[0]):\n",
    "        temp[i, :] = temp[i, :][::-1]\n",
    "\n",
    "    return temp"
   ]
  },
  {
   "cell_type": "code",
   "execution_count": null,
   "metadata": {
    "Collapsed": "false"
   },
   "outputs": [],
   "source": [
    "# let's define the signals\n",
    "dur = 128\n",
    "sample_rate = 128\n",
    "true_freq = 13.4\n",
    "noise_freq = 5.8\n",
    "noise_phase = np.pi/4\n",
    "noise_amp = 0.25\n",
    "t = np.linspace(0, dur, dur*sample_rate)\n",
    "s = np.sin(2*np.pi*true_freq * t)\n",
    "n = noise_amp * np.sin(2*np.pi*noise_freq*t + noise_phase)\n",
    "d = s + noise_amp * np.sin(2*np.pi*noise_freq*t)  # phase shifted input"
   ]
  },
  {
   "cell_type": "code",
   "execution_count": null,
   "metadata": {
    "Collapsed": "false"
   },
   "outputs": [],
   "source": [
    "# let's see this phase shift\n",
    "time = np.linspace(0, 1, sample_rate)\n",
    "plt.plot(time, d[:sample_rate], label='system signal', lw=2.0)\n",
    "plt.plot(time, noise_amp * np.sin(2*np.pi*noise_freq*t)[:sample_rate], label='added noise', ls='--')\n",
    "plt.plot(time, n[:sample_rate], label='shifted noise', lw=2.0)\n",
    "plt.title('System Data and Input Channel')\n",
    "plt.xlabel('Time [s]')\n",
    "plt.legend(loc='upper right')\n",
    "plt.grid(True)\n",
    "plt.ylim([-1.25, 1.25])\n",
    "plt.show()\n",
    "plt.close()"
   ]
  },
  {
   "cell_type": "markdown",
   "metadata": {
    "Collapsed": "false"
   },
   "source": [
    "Hopefully you can identify that there is a $45^{\\circ}$ phase shift between the noise that is actually in the system and the noise source which we are provided with"
   ]
  },
  {
   "cell_type": "code",
   "execution_count": null,
   "metadata": {
    "Collapsed": "false"
   },
   "outputs": [],
   "source": [
    "# apply lookback \n",
    "lb = 16  # NOTE: This is a lot\n",
    "tar_lb = d[lb:]\n",
    "wit_lb = do_lookback(n.reshape(n.size, 1), lb)\n",
    "\n",
    "# reshape for training and testing (samples, lookback, features)\n",
    "tt = 8  # test time in seconds\n",
    "tfrac = 8*sample_rate\n",
    "x_train = wit_lb[:-tfrac, :, :]\n",
    "y_train = tar_lb[:-tfrac]\n",
    "\n",
    "x_test = wit_lb[-tfrac:, :, :]\n",
    "y_test = tar_lb[-tfrac:]\n",
    "\n",
    "print(x_train.shape, y_train.shape, x_test.shape, y_test.shape)"
   ]
  },
  {
   "cell_type": "markdown",
   "metadata": {
    "Collapsed": "false"
   },
   "source": [
    "We now have 512 samples, each 1 second long. Like before, we will train on the first 504s and test on the last 8. We can now make the training and testing data"
   ]
  },
  {
   "cell_type": "code",
   "execution_count": null,
   "metadata": {
    "Collapsed": "false"
   },
   "outputs": [],
   "source": [
    "# We can now run our first LSTM recurrent neural network!\n",
    "model = Sequential()\n",
    "model.add(SimpleRNN(4, input_shape=(x_train.shape[1], x_train.shape[2]), activation='tanh'))\n",
    "# model.add(Dense(4, activation='elu'))\n",
    "model.add(Dense(1))\n",
    "model.compile(loss='mse', optimizer='adam')\n",
    "history = model.fit(x_train, y_train, epochs=40, validation_data=(x_test, y_test), batch_size=1000)"
   ]
  },
  {
   "cell_type": "markdown",
   "metadata": {
    "Collapsed": "false"
   },
   "source": [
    "We can now design our network. Keep in mind, the final output is not a scalar, but rather a vector with dimension equal to the sample rate, i.e, a 1 second prediction. Therefore the final layer of our network must be of this same size."
   ]
  },
  {
   "cell_type": "code",
   "execution_count": null,
   "metadata": {
    "Collapsed": "false"
   },
   "outputs": [],
   "source": [
    "# let's log the loss functions and plot them \n",
    "train_loss = history.history['loss']\n",
    "val_loss = history.history['val_loss']\n",
    "plt.plot(train_loss, label='Training Loss')\n",
    "plt.plot(val_loss, label='Validation Loss')\n",
    "plt.axhline(0.5, ls='--', color='black')\n",
    "plt.legend()\n",
    "plt.title('Loss History')\n",
    "plt.xlabel('Epochs')\n",
    "plt.ylabel('Loss (MSE)')\n",
    "plt.show()\n",
    "plt.close()"
   ]
  },
  {
   "cell_type": "code",
   "execution_count": null,
   "metadata": {
    "Collapsed": "false"
   },
   "outputs": [],
   "source": [
    "# make predictions and plots\n",
    "y_hat = model.predict(x_test)\n",
    "y_hat = y_hat.flatten()\n",
    "clean = y_test - y_hat\n",
    "\n",
    "plt.plot(s[-sample_rate:], label='true signal')\n",
    "plt.plot(clean[-sample_rate:], label='cleaned estimate', ls='--')\n",
    "plt.title('LSTM Phase Correction')\n",
    "plt.xlabel('Time [s]')\n",
    "plt.legend(loc='upper right')\n",
    "plt.grid(True)\n",
    "plt.ylim([-1.25, 1.25])\n",
    "plt.show()\n",
    "plt.close()\n",
    "\n",
    "noise_floor = 0.01 * np.random.rand(sample_rate*8)\n",
    "freq, clean_psd = sig.welch(clean+noise_floor, fs=sample_rate, nperseg=sample_rate*8)\n",
    "_, signal_psd = sig.welch(s[-sample_rate*8:]+noise_floor, fs=sample_rate, nperseg=sample_rate*8)\n",
    "_, d_psd = sig.welch(d[-sample_rate*8:]+noise_floor, fs=sample_rate, nperseg=sample_rate*8)\n",
    "plt.semilogy(freq, d_psd, label='System Signal')\n",
    "plt.semilogy(freq, signal_psd, label='True Signal')\n",
    "plt.semilogy(freq, clean_psd, label='True Signal Estimate')\n",
    "plt.axvline(noise_freq, label='$f_n={}$ Hz'.format(noise_freq), ls='--', color='black', alpha=0.5)\n",
    "plt.axvline(true_freq, label='$f_s={}$ Hz'.format(true_freq), ls='--', color='black', alpha=0.5)\n",
    "plt.legend(loc='upper right')\n",
    "plt.xlabel('Frequency [Hz]')\n",
    "plt.ylabel('Power Spectral Density')\n",
    "plt.xlim([3,30])\n",
    "plt.ylim([1e-9, 1e2])\n",
    "plt.grid(True)\n",
    "plt.title('PSD of Target and Network Output')\n",
    "plt.show()\n",
    "plt.close()"
   ]
  },
  {
   "cell_type": "markdown",
   "metadata": {
    "Collapsed": "false"
   },
   "source": [
    "Evidently we have been able to nearly perfectly determine the phase since only when we have no mismatch in the phases can we actually achieve meaningful subtraction. Therefore the context provided by the RNN was the necessary ingredient in order that we can understand the temporal structure of our data.\n",
    "\n",
    "This may seem like overkill and for a simple sine wave, I would agree. But be aware of how stochastic data can apparently become. Finding the (potentially nonlinear) correlation between multiple channels which may be very long would rapidly become intractable by hand."
   ]
  }
 ],
 "metadata": {
  "anaconda-cloud": {},
  "celltoolbar": "Slideshow",
  "kernelspec": {
   "display_name": "Python 3 (ipykernel)",
   "language": "python",
   "name": "python3"
  },
  "language_info": {
   "codemirror_mode": {
    "name": "ipython",
    "version": 3
   },
   "file_extension": ".py",
   "mimetype": "text/x-python",
   "name": "python",
   "nbconvert_exporter": "python",
   "pygments_lexer": "ipython3",
   "version": "3.9.7"
  },
  "livereveal": {
   "scroll": true,
   "start_slideshow_at": "selected"
  }
 },
 "nbformat": 4,
 "nbformat_minor": 1
}
