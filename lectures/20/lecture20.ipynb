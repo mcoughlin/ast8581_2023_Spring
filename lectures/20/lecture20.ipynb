{
 "cells": [
  {
   "cell_type": "code",
   "execution_count": 1,
   "metadata": {},
   "outputs": [
    {
     "data": {
      "text/plain": [
       "{'width': 1920, 'height': 1080, 'scroll': True}"
      ]
     },
     "execution_count": 1,
     "metadata": {},
     "output_type": "execute_result"
    }
   ],
   "source": [
    "from notebook.services.config import ConfigManager\n",
    "cm = ConfigManager()\n",
    "cm.update('livereveal', {\n",
    "        'width': 1920,\n",
    "        'height': 1080,\n",
    "        'scroll': True,\n",
    "})"
   ]
  },
  {
   "cell_type": "markdown",
   "metadata": {
    "slideshow": {
     "slide_type": "slide"
    }
   },
   "source": [
    "# Week 11 (Wednesday), AST 8581 / PHYS 8581 / CSCI 8581 / STAT 8581: Big Data in Astrophysics\n",
    "\n",
    "### Michael Coughlin <cough052@umn.edu>, Jie Ding <dingj@umn.edu>\n",
    "\n",
    "With contributions totally ripped off from Dima Duev (Weights and Biases), Lex Friedman (MIT), François Chollet (Google), Michael Steinbach (UMN), and Nico Adams (UMN)\n",
    "\n"
   ]
  },
  {
   "cell_type": "markdown",
   "metadata": {},
   "source": [
    "# Where do we stand?\n",
    "\n",
    "Foundations of Data and Probability -> Statistical frameworks (Frequentist vs Bayesian) -> Estimating underlying distributions -> Analysis of Time series (periodicity) -> Analysis of Time series (variability) -> Analysis of Time series (stochastic processes) -> Gaussian Processes -> Decision Trees / Regression -> Dimensionality Reduction -> Principle Component Analysis -> Clustering -> Density Estimation / Anomaly Detection -> Supervised Learning -> Deep Learning"
   ]
  },
  {
   "cell_type": "markdown",
   "metadata": {},
   "source": [
    "<img src='img/dl11.png'>"
   ]
  },
  {
   "cell_type": "markdown",
   "metadata": {},
   "source": [
    "<img src='img/dl12.png'>"
   ]
  },
  {
   "cell_type": "markdown",
   "metadata": {},
   "source": [
    "# More: Recipe / Practical advice from one of DL godfathers Andrej Karpathy\n",
    "\n",
    "Highly recommended: [Andrej Karpathy's blog post](http://karpathy.github.io/2019/04/25/recipe/)\n",
    "\n",
    "- Neural net training is a leaky abstraction\n",
    "\n",
    "```bash\n",
    ">>> your_data = # plug your awesome dataset here\n",
    ">>> model = SuperCrossValidator(SuperDuper.fit, your_data, ResNet50, SGDOptimizer)\n",
    "# conquer world here\n",
    "```\n",
    "\n",
    "- Neural net training fails silently\n",
    "\n",
    "Lots of ways to screw things up -> many paths to pain and suffering\n"
   ]
  },
  {
   "cell_type": "markdown",
   "metadata": {},
   "source": [
    "## Overfitting\n",
    "\n",
    "To find a good model takes two stages: first get a model large enough that it can overfit (i.e. focus on training loss) and then regularize it appropriately (give up some training loss to improve the validation loss).\n",
    "\n",
    "### Tips & tricks for this stage:\n",
    "\n",
    "- **picking the model**. To reach a good training loss you’ll want to choose an appropriate architecture for the data. When it comes to choosing this my #1 advice is: Don’t be a hero. I’ve seen a lot of people who are eager to get crazy and creative in stacking up the lego blocks of the neural net toolbox in various exotic architectures that make sense to them. Resist this temptation strongly in the early stages of your project. I always advise people to simply find the most related paper and copy paste their simplest architecture that achieves good performance. E.g. if you are classifying images don’t be a hero and just copy paste a ResNet-50 for your first run. You’re allowed to do something more custom later and beat this.\n",
    "- **adam is safe**. In the early stages of setting baselines I like to use Adam with a learning rate of 3e-4. In my experience Adam is much more forgiving to hyperparameters, including a bad learning rate. For ConvNets a well-tuned SGD will almost always slightly outperform Adam, but the optimal learning rate region is much more narrow and problem-specific. (Note: If you are using RNNs and related sequence models it is more common to use Adam. At the initial stage of your project, again, don’t be a hero and follow whatever the most related papers do.)\n",
    "- **complexify only one at a time**. If you have multiple signals to plug into your classifier I would advise that you plug them in one by one and every time ensure that you get a performance boost you’d expect. Don’t throw the kitchen sink at your model at the start. There are other ways of building up complexity - e.g. you can try to plug in smaller images first and make them bigger later, etc.\n",
    "- **do not trust learning rate decay defaults**. If you are re-purposing code from some other domain always be very careful with learning rate decay. Not only would you want to use different decay schedules for different problems, but - even worse - in a typical implementation the schedule will be based current epoch number, which can vary widely simply depending on the size of your dataset. E.g. ImageNet would decay by 10 on epoch 30. If you’re not training ImageNet then you almost certainly do not want this. If you’re not careful your code could secretely be driving your learning rate to zero too early, not allowing your model to converge. In my own work I always disable learning rate decays entirely (I use a constant LR) and tune this all the way at the very end.\n"
   ]
  },
  {
   "cell_type": "markdown",
   "metadata": {},
   "source": [
    "## Regularize\n",
    "\n",
    "Now to regularize the model and gain some validation accuracy by giving up some of the training accuracy.\n",
    "\n",
    "### Tips & tricks for this stage:\n",
    "\n",
    "- **get more data. First**, the by far best and preferred way to regularize a model in any practical setting is to add more real training data. It is a very common mistake to spend a lot engineering cycles trying to squeeze juice out of a small dataset when you could instead be collecting more data. As far as I’m aware adding more data is pretty much the only guaranteed way to monotonically improve the performance of a well-configured neural network almost indefinitely. The other would be ensembles (if you can afford them), but that tops out after ~5 models.\n",
    "- **data augment**. The next best thing to real data is half-fake data - try out more aggressive data augmentation.\n",
    "- **creative augmentation**. If half-fake data doesn’t do it, fake data may also do something. People are finding creative ways of expanding datasets; For example, domain randomization, use of simulation, clever hybrids such as inserting (potentially simulated) data into scenes, or even GANs.\n",
    "- **pretrain**. It rarely ever hurts to use a pretrained network if you can, even if you have enough data.\n",
    "- **stick with supervised learning**. Do not get over-excited about unsupervised pretraining. Unlike what that blog post from 2008 tells you, as far as I know, no version of it has reported strong results in modern computer vision (though NLP seems to be doing pretty well with BERT and friends these days, quite likely owing to the more deliberate nature of text, and a higher signal to noise ratio).\n",
    "- **smaller input dimensionality**. Remove features that may contain spurious signal. Any added spurious input is just another opportunity to overfit if your dataset is small. Similarly, if low-level details don’t matter much try to input a smaller image.\n",
    "- **smaller model size**. In many cases you can use domain knowledge constraints on the network to decrease its size. As an example, it used to be trendy to use Fully Connected layers at the top of backbones for ImageNet but these have since been replaced with simple average pooling, eliminating a ton of parameters in the process.\n",
    "- **decrease the batch size**. Due to the normalization inside batch norm smaller batch sizes somewhat correspond to stronger regularization. This is because the batch empirical mean/std are more approximate versions of the full mean/std so the scale & offset “wiggles” your batch around more.\n",
    "- **drop**. Add dropout. Use dropout2d (spatial dropout) for ConvNets. Use this sparingly/carefully because dropout does not seem to play nice with batch normalization.\n",
    "- **weight decay**. Increase the weight decay penalty.\n",
    "- **early stopping**. Stop training based on your measured validation loss to catch your model just as it’s about to overfit.\n",
    "- **try a larger model**. I mention this last and only after early stopping but I’ve found a few times in the past that larger models will of course overfit much more eventually, but their “early stopped” performance can often be much better than that of smaller models.\n",
    "\n",
    "Finally, to gain additional confidence that your network is a reasonable classifier, I like to visualize the network’s first-layer weights and ensure you get nice edges that make sense. If your first layer filters look like noise then something could be off. Similarly, activations inside the net can sometimes display odd artifacts and hint at problems."
   ]
  },
  {
   "cell_type": "markdown",
   "metadata": {},
   "source": [
    "## Tune\n",
    "\n",
    "You should now be “in the loop” with your dataset exploring a wide model space for architectures that achieve low validation loss. A few tips and tricks for this step:\n",
    "\n",
    "### Tips & tricks for this stage:\n",
    "\n",
    "- ** random over grid search**. For simultaneously tuning multiple hyperparameters it may sound tempting to use grid search to ensure coverage of all settings, but keep in mind that it is best to use random search instead. Intuitively, this is because neural nets are often much more sensitive to some parameters than others. In the limit, if a parameter a matters but changing b has no effect then you’d rather sample a more throughly than at a few fixed points multiple times.\n",
    "- **hyper-parameter optimization**. There is a large number of fancy bayesian hyper-parameter optimization toolboxes around and a few of my friends have also reported success with them, but my personal experience is that the state of the art approach to exploring a nice and wide space of models and hyperparameters is to use an intern :). Just kidding."
   ]
  },
  {
   "cell_type": "markdown",
   "metadata": {},
   "source": [
    "## Squeeze out the juice\n",
    "\n",
    "Once you find the best types of architectures and hyper-parameters you can still use a few more tricks to squeeze out the last pieces of juice out of the system:\n",
    "\n",
    "### Tips & tricks for this stage:\n",
    "\n",
    "- **ensembles**. Model ensembles are a pretty much guaranteed way to gain 2% of accuracy on anything. If you can’t afford the computation at test time look into distilling your ensemble into a network using dark knowledge.\n",
    "- **leave it training**. I’ve often seen people tempted to stop the model training when the validation loss seems to be leveling off. In my experience networks keep training for unintuitively long time. One time I accidentally left a model training during the winter break and when I got back in January it was SOTA (“state of the art”).\n"
   ]
  },
  {
   "cell_type": "markdown",
   "metadata": {},
   "source": [
    "# In-class example: Classifying movie reviews: a binary classification example"
   ]
  },
  {
   "cell_type": "markdown",
   "metadata": {},
   "source": [
    "## The IMDB dataset\n",
    "\n",
    "\n",
    "We'll be working with \"IMDB dataset\", a set of 50,000 highly-polarized reviews from the Internet Movie Database. They are split into 25,000 \n",
    "reviews for training and 25,000 reviews for testing, each set consisting in 50% negative and 50% positive reviews.\n",
    "It has already been preprocessed: the reviews (sequences of words) \n",
    "have been turned into sequences of integers, where each integer stands for a specific word in a dictionary."
   ]
  },
  {
   "cell_type": "markdown",
   "metadata": {},
   "source": [
    "## Overfitting and underfitting\n",
    "\n",
    "Overfitting happens in every single machine learning \n",
    "problem. Learning how to deal with overfitting is essential to mastering machine learning.\n",
    "\n",
    "The fundamental issue in machine learning is the tension between optimization and generalization. \"Optimization\" refers to the process of \n",
    "adjusting a model to get the best performance possible on the training data (the \"learning\" in \"machine learning\"), while \"generalization\" \n",
    "refers to how well the trained model would perform on data it has never seen before. The goal of the game is to get good generalization, of \n",
    "course, but you do not control generalization; you can only adjust the model based on its training data.\n",
    "\n",
    "At the beginning of training, optimization and generalization are correlated: the lower your loss on training data, the lower your loss on \n",
    "test data. While this is happening, your model is said to be _under-fit_: there is still progress to be made; the network hasn't yet \n",
    "modeled all relevant patterns in the training data. But after a certain number of iterations on the training data, generalization stops \n",
    "improving, validation metrics stall then start degrading: the model is then starting to over-fit, i.e. is it starting to learn patterns \n",
    "that are specific to the training data but that are misleading or irrelevant when it comes to new data.\n",
    "\n",
    "To prevent a model from learning misleading or irrelevant patterns found in the training data, _the best solution is of course to get \n",
    "more training data_. A model trained on more data will naturally generalize better. When that is no longer possible, the next best solution \n",
    "is to modulate the quantity of information that your model is allowed to store, or to add constraints on what information it is allowed to \n",
    "store. If a network can only afford to memorize a small number of patterns, the optimization process will force it to focus on the most \n",
    "prominent patterns, which have a better chance of generalizing well.\n",
    "\n",
    "The processing of fighting overfitting in this way is called _regularization_."
   ]
  },
  {
   "cell_type": "code",
   "execution_count": null,
   "metadata": {},
   "outputs": [],
   "source": [
    "from keras.datasets import imdb\n",
    "import numpy as np\n",
    "\n",
    "(train_data, train_labels), (test_data, test_labels) = imdb.load_data(num_words=10000)\n",
    "\n",
    "def vectorize_sequences(sequences, dimension=10000):\n",
    "    # Create an all-zero matrix of shape (len(sequences), dimension)\n",
    "    results = np.zeros((len(sequences), dimension))\n",
    "    for i, sequence in enumerate(sequences):\n",
    "        results[i, sequence] = 1.  # set specific indices of results[i] to 1s\n",
    "    return results\n",
    "\n",
    "# Our vectorized training data\n",
    "x_train = vectorize_sequences(train_data)\n",
    "# Our vectorized test data\n",
    "x_test = vectorize_sequences(test_data)\n",
    "# Our vectorized labels\n",
    "y_train = np.asarray(train_labels).astype('float32')\n",
    "y_test = np.asarray(test_labels).astype('float32')"
   ]
  },
  {
   "cell_type": "markdown",
   "metadata": {},
   "source": [
    "## Fighting overfitting: Reducing the network's size\n",
    "\n",
    "The simplest way to prevent overfitting is to reduce the size of the model, i.e. the number of learnable parameters in the model (which is \n",
    "determined by the number of layers and the number of units per layer). In deep learning, the number of learnable parameters in a model is \n",
    "often referred to as the model's \"capacity\". Intuitively, a model with more parameters will have more \"memorization capacity\" and therefore \n",
    "will be able to easily learn a perfect dictionary-like mapping between training samples and their targets, a mapping without any \n",
    "generalization power. For instance, a model with 500,000 binary parameters could easily be made to learn the class of every digits in the \n",
    "MNIST training set: we would only need 10 binary parameters for each of the 50,000 digits. Such a model would be useless for classifying \n",
    "new digit samples. Always keep this in mind: deep learning models tend to be good at fitting to the training data, but the real challenge \n",
    "is generalization, not fitting.\n",
    "\n",
    "On the other hand, if the network has limited memorization resources, it will not be able to learn this mapping as easily, and thus, in \n",
    "order to minimize its loss, it will have to resort to learning compressed representations that have predictive power regarding the targets \n",
    "-- precisely the type of representations that we are interested in. At the same time, keep in mind that you should be using models that have \n",
    "enough parameters that they won't be underfitting: your model shouldn't be starved for memorization resources. There is a compromise to be \n",
    "found between \"too much capacity\" and \"not enough capacity\".\n",
    "\n",
    "Unfortunately, there is no magical formula to determine what the right number of layers is, or what the right size for each layer is. You \n",
    "will have to evaluate an array of different architectures (on your validation set, not on your test set, of course) in order to find the \n",
    "right model size for your data. The general workflow to find an appropriate model size is to start with relatively few layers and \n",
    "parameters, and start increasing the size of the layers or adding new layers until you see diminishing returns with regard to the \n",
    "validation loss.\n",
    "\n",
    "Let's try this on our movie review classification network. Our original network was as such:"
   ]
  },
  {
   "cell_type": "code",
   "execution_count": 27,
   "metadata": {},
   "outputs": [],
   "source": [
    "from keras import models\n",
    "from keras import layers\n",
    "\n",
    "original_model = models.Sequential()\n",
    "original_model.add(layers.Dense(16, activation='relu', input_shape=(10000,)))\n",
    "original_model.add(layers.Dense(16, activation='relu'))\n",
    "original_model.add(layers.Dense(1, activation='sigmoid'))\n",
    "\n",
    "original_model.compile(optimizer='rmsprop',\n",
    "                       loss='binary_crossentropy',\n",
    "                       metrics=['acc'])"
   ]
  },
  {
   "cell_type": "markdown",
   "metadata": {},
   "source": [
    "Now let's try to replace it with this smaller network:"
   ]
  },
  {
   "cell_type": "code",
   "execution_count": 28,
   "metadata": {},
   "outputs": [],
   "source": [
    "smaller_model = models.Sequential()\n",
    "smaller_model.add(layers.Dense(4, activation='relu', input_shape=(10000,)))\n",
    "smaller_model.add(layers.Dense(4, activation='relu'))\n",
    "smaller_model.add(layers.Dense(1, activation='sigmoid'))\n",
    "\n",
    "smaller_model.compile(optimizer='rmsprop',\n",
    "                      loss='binary_crossentropy',\n",
    "                      metrics=['acc'])"
   ]
  },
  {
   "cell_type": "markdown",
   "metadata": {},
   "source": [
    "\n",
    "Here's a comparison of the validation losses of the original network and the smaller network. The dots are the validation loss values of \n",
    "the smaller network, and the crosses are the initial network (remember: a lower validation loss signals a better model)."
   ]
  },
  {
   "cell_type": "code",
   "execution_count": 29,
   "metadata": {},
   "outputs": [
    {
     "name": "stdout",
     "output_type": "stream",
     "text": [
      "Train on 25000 samples, validate on 25000 samples\n",
      "Epoch 1/20\n",
      "25000/25000 [==============================] - 6s 256us/step - loss: 0.4373 - acc: 0.8282 - val_loss: 0.3293 - val_acc: 0.8818\n",
      "Epoch 2/20\n",
      "25000/25000 [==============================] - 3s 114us/step - loss: 0.2542 - acc: 0.9094 - val_loss: 0.2917 - val_acc: 0.8849\n",
      "Epoch 3/20\n",
      "25000/25000 [==============================] - 4s 142us/step - loss: 0.1972 - acc: 0.9290 - val_loss: 0.2923 - val_acc: 0.8822\n",
      "Epoch 4/20\n",
      "25000/25000 [==============================] - 3s 121us/step - loss: 0.1627 - acc: 0.9429 - val_loss: 0.3091 - val_acc: 0.8774\n",
      "Epoch 5/20\n",
      "25000/25000 [==============================] - 3s 112us/step - loss: 0.1414 - acc: 0.9504 - val_loss: 0.3808 - val_acc: 0.8560\n",
      "Epoch 6/20\n",
      "25000/25000 [==============================] - 3s 111us/step - loss: 0.1234 - acc: 0.9579 - val_loss: 0.3411 - val_acc: 0.8757\n",
      "Epoch 7/20\n",
      "25000/25000 [==============================] - 3s 115us/step - loss: 0.1090 - acc: 0.9638 - val_loss: 0.3643 - val_acc: 0.8690\n",
      "Epoch 8/20\n",
      "25000/25000 [==============================] - 3s 114us/step - loss: 0.0980 - acc: 0.9676 - val_loss: 0.3884 - val_acc: 0.8668\n",
      "Epoch 9/20\n",
      "25000/25000 [==============================] - 3s 128us/step - loss: 0.0861 - acc: 0.9718 - val_loss: 0.4088 - val_acc: 0.8661\n",
      "Epoch 10/20\n",
      "25000/25000 [==============================] - 3s 127us/step - loss: 0.0730 - acc: 0.9766 - val_loss: 0.4415 - val_acc: 0.8627\n",
      "Epoch 11/20\n",
      "25000/25000 [==============================] - 4s 158us/step - loss: 0.0654 - acc: 0.9787 - val_loss: 0.4705 - val_acc: 0.8630\n",
      "Epoch 12/20\n",
      "25000/25000 [==============================] - 3s 124us/step - loss: 0.0588 - acc: 0.9824 - val_loss: 0.5448 - val_acc: 0.8592\n",
      "Epoch 13/20\n",
      "25000/25000 [==============================] - 3s 122us/step - loss: 0.0514 - acc: 0.9848 - val_loss: 0.5350 - val_acc: 0.8599\n",
      "Epoch 14/20\n",
      "25000/25000 [==============================] - 3s 120us/step - loss: 0.0433 - acc: 0.9876 - val_loss: 0.5640 - val_acc: 0.8594\n",
      "Epoch 15/20\n",
      "25000/25000 [==============================] - 3s 120us/step - loss: 0.0389 - acc: 0.9894 - val_loss: 0.5915 - val_acc: 0.8561\n",
      "Epoch 16/20\n",
      "25000/25000 [==============================] - 3s 118us/step - loss: 0.0323 - acc: 0.9910 - val_loss: 0.6245 - val_acc: 0.8553\n",
      "Epoch 17/20\n",
      "25000/25000 [==============================] - 3s 126us/step - loss: 0.0268 - acc: 0.9936 - val_loss: 0.6913 - val_acc: 0.8543\n",
      "Epoch 18/20\n",
      "25000/25000 [==============================] - 3s 121us/step - loss: 0.0258 - acc: 0.9932 - val_loss: 0.6955 - val_acc: 0.8550\n",
      "Epoch 19/20\n",
      "25000/25000 [==============================] - 3s 127us/step - loss: 0.0212 - acc: 0.9945 - val_loss: 0.7669 - val_acc: 0.8406\n",
      "Epoch 20/20\n",
      "25000/25000 [==============================] - 3s 131us/step - loss: 0.0180 - acc: 0.9952 - val_loss: 0.7770 - val_acc: 0.8535\n"
     ]
    }
   ],
   "source": [
    "original_hist = original_model.fit(x_train, y_train,\n",
    "                                   epochs=20,\n",
    "                                   batch_size=512,\n",
    "                                   validation_data=(x_test, y_test))"
   ]
  },
  {
   "cell_type": "code",
   "execution_count": 30,
   "metadata": {},
   "outputs": [
    {
     "name": "stdout",
     "output_type": "stream",
     "text": [
      "Train on 25000 samples, validate on 25000 samples\n",
      "Epoch 1/20\n",
      "25000/25000 [==============================] - 4s 169us/step - loss: 0.6110 - acc: 0.6874 - val_loss: 0.5552 - val_acc: 0.7641\n",
      "Epoch 2/20\n",
      "25000/25000 [==============================] - 6s 222us/step - loss: 0.4951 - acc: 0.8489 - val_loss: 0.4724 - val_acc: 0.8557\n",
      "Epoch 3/20\n",
      "25000/25000 [==============================] - 10s 380us/step - loss: 0.3889 - acc: 0.9018 - val_loss: 0.3836 - val_acc: 0.8750\n",
      "Epoch 4/20\n",
      "25000/25000 [==============================] - 10s 402us/step - loss: 0.2929 - acc: 0.9231 - val_loss: 0.3225 - val_acc: 0.8879\n",
      "Epoch 5/20\n",
      "25000/25000 [==============================] - 10s 396us/step - loss: 0.2347 - acc: 0.9322 - val_loss: 0.2999 - val_acc: 0.8868\n",
      "Epoch 6/20\n",
      "25000/25000 [==============================] - 9s 349us/step - loss: 0.2005 - acc: 0.9398 - val_loss: 0.2898 - val_acc: 0.8856\n",
      "Epoch 7/20\n",
      "25000/25000 [==============================] - 7s 291us/step - loss: 0.1771 - acc: 0.9454 - val_loss: 0.2868 - val_acc: 0.8873\n",
      "Epoch 8/20\n",
      "25000/25000 [==============================] - 6s 259us/step - loss: 0.1601 - acc: 0.9494 - val_loss: 0.2996 - val_acc: 0.8813\n",
      "Epoch 9/20\n",
      "25000/25000 [==============================] - 6s 250us/step - loss: 0.1458 - acc: 0.9538 - val_loss: 0.3041 - val_acc: 0.8793\n",
      "Epoch 10/20\n",
      "25000/25000 [==============================] - 6s 253us/step - loss: 0.1342 - acc: 0.9587 - val_loss: 0.3076 - val_acc: 0.8810\n",
      "Epoch 11/20\n",
      "25000/25000 [==============================] - 8s 305us/step - loss: 0.1244 - acc: 0.9611 - val_loss: 0.3271 - val_acc: 0.8747\n",
      "Epoch 12/20\n",
      "25000/25000 [==============================] - 7s 288us/step - loss: 0.1153 - acc: 0.9644 - val_loss: 0.3314 - val_acc: 0.8761\n",
      "Epoch 13/20\n",
      "25000/25000 [==============================] - 5s 209us/step - loss: 0.1073 - acc: 0.9665 - val_loss: 0.3443 - val_acc: 0.8741\n",
      "Epoch 14/20\n",
      "25000/25000 [==============================] - 5s 201us/step - loss: 0.1001 - acc: 0.9702 - val_loss: 0.3591 - val_acc: 0.8720\n",
      "Epoch 15/20\n",
      "25000/25000 [==============================] - 6s 259us/step - loss: 0.0935 - acc: 0.9725 - val_loss: 0.3792 - val_acc: 0.8685\n",
      "Epoch 16/20\n",
      "25000/25000 [==============================] - 6s 222us/step - loss: 0.0871 - acc: 0.9750 - val_loss: 0.3946 - val_acc: 0.8686\n",
      "Epoch 17/20\n",
      "25000/25000 [==============================] - 5s 213us/step - loss: 0.0821 - acc: 0.9770 - val_loss: 0.4082 - val_acc: 0.8664\n",
      "Epoch 18/20\n",
      "25000/25000 [==============================] - 5s 201us/step - loss: 0.0766 - acc: 0.9787 - val_loss: 0.4249 - val_acc: 0.8648\n",
      "Epoch 19/20\n",
      "25000/25000 [==============================] - 5s 204us/step - loss: 0.0719 - acc: 0.9797 - val_loss: 0.4457 - val_acc: 0.8642\n",
      "Epoch 20/20\n",
      "25000/25000 [==============================] - 5s 214us/step - loss: 0.0672 - acc: 0.9825 - val_loss: 0.4590 - val_acc: 0.8616\n"
     ]
    }
   ],
   "source": [
    "smaller_model_hist = smaller_model.fit(x_train, y_train,\n",
    "                                       epochs=20,\n",
    "                                       batch_size=512,\n",
    "                                       validation_data=(x_test, y_test))"
   ]
  },
  {
   "cell_type": "code",
   "execution_count": 31,
   "metadata": {},
   "outputs": [],
   "source": [
    "epochs = range(1, 21)\n",
    "original_val_loss = original_hist.history['val_loss']\n",
    "smaller_model_val_loss = smaller_model_hist.history['val_loss']"
   ]
  },
  {
   "cell_type": "code",
   "execution_count": 32,
   "metadata": {},
   "outputs": [
    {
     "data": {
      "image/png": "[encoded data removed]",
      "text/plain": [
       "<Figure size 432x288 with 1 Axes>"
      ]
     },
     "metadata": {
      "needs_background": "light"
     },
     "output_type": "display_data"
    }
   ],
   "source": [
    "import matplotlib.pyplot as plt\n",
    "\n",
    "# b+ is for \"blue cross\"\n",
    "plt.plot(epochs, original_val_loss, 'b+', label='Original model')\n",
    "# \"bo\" is for \"blue dot\"\n",
    "plt.plot(epochs, smaller_model_val_loss, 'bo', label='Smaller model')\n",
    "plt.xlabel('Epochs')\n",
    "plt.ylabel('Validation loss')\n",
    "plt.legend()\n",
    "\n",
    "plt.show()"
   ]
  },
  {
   "cell_type": "markdown",
   "metadata": {},
   "source": [
    "\n",
    "As you can see, the smaller network starts overfitting later than the reference one (after 6 epochs rather than 4) and its performance \n",
    "degrades much more slowly once it starts overfitting.\n",
    "\n",
    "Now, for kicks, let's add to this benchmark a network that has much more capacity, far more than the problem would warrant:"
   ]
  },
  {
   "cell_type": "code",
   "execution_count": 33,
   "metadata": {},
   "outputs": [],
   "source": [
    "bigger_model = models.Sequential()\n",
    "bigger_model.add(layers.Dense(512, activation='relu', input_shape=(10000,)))\n",
    "bigger_model.add(layers.Dense(512, activation='relu'))\n",
    "bigger_model.add(layers.Dense(1, activation='sigmoid'))\n",
    "\n",
    "bigger_model.compile(optimizer='rmsprop',\n",
    "                     loss='binary_crossentropy',\n",
    "                     metrics=['acc'])"
   ]
  },
  {
   "cell_type": "code",
   "execution_count": 34,
   "metadata": {},
   "outputs": [
    {
     "name": "stdout",
     "output_type": "stream",
     "text": [
      "Train on 25000 samples, validate on 25000 samples\n",
      "Epoch 1/20\n",
      "25000/25000 [==============================] - 18s 738us/step - loss: 0.4465 - acc: 0.8006 - val_loss: 0.2816 - val_acc: 0.8889\n",
      "Epoch 2/20\n",
      "25000/25000 [==============================] - 16s 634us/step - loss: 0.2086 - acc: 0.9188 - val_loss: 0.3050 - val_acc: 0.8810\n",
      "Epoch 3/20\n",
      "25000/25000 [==============================] - 15s 592us/step - loss: 0.1185 - acc: 0.9602 - val_loss: 0.5612 - val_acc: 0.8266\n",
      "Epoch 4/20\n",
      "25000/25000 [==============================] - 17s 666us/step - loss: 0.0645 - acc: 0.9813 - val_loss: 0.4652 - val_acc: 0.8819\n",
      "Epoch 5/20\n",
      "25000/25000 [==============================] - 22s 875us/step - loss: 0.0864 - acc: 0.9884 - val_loss: 0.5099 - val_acc: 0.8789\n",
      "Epoch 6/20\n",
      "25000/25000 [==============================] - 22s 883us/step - loss: 0.0059 - acc: 0.9985 - val_loss: 5.4485 - val_acc: 0.5818\n",
      "Epoch 7/20\n",
      "25000/25000 [==============================] - 23s 905us/step - loss: 0.0902 - acc: 0.9906 - val_loss: 0.7073 - val_acc: 0.8791\n",
      "Epoch 8/20\n",
      "25000/25000 [==============================] - 21s 828us/step - loss: 0.1086 - acc: 0.9879 - val_loss: 0.6128 - val_acc: 0.8606\n",
      "Epoch 9/20\n",
      "25000/25000 [==============================] - 20s 804us/step - loss: 0.0011 - acc: 1.0000 - val_loss: 0.6996 - val_acc: 0.8780\n",
      "Epoch 10/20\n",
      "25000/25000 [==============================] - 26s 1ms/step - loss: 0.0607 - acc: 0.9911 - val_loss: 0.6387 - val_acc: 0.8774\n",
      "Epoch 11/20\n",
      "25000/25000 [==============================] - 22s 875us/step - loss: 2.5968e-04 - acc: 1.0000 - val_loss: 0.8177 - val_acc: 0.8774\n",
      "Epoch 12/20\n",
      "25000/25000 [==============================] - 21s 822us/step - loss: 3.4178e-05 - acc: 1.0000 - val_loss: 1.0233 - val_acc: 0.8786\n",
      "Epoch 13/20\n",
      "25000/25000 [==============================] - 22s 884us/step - loss: 0.1175 - acc: 0.9897 - val_loss: 0.7631 - val_acc: 0.8801\n",
      "Epoch 14/20\n",
      "25000/25000 [==============================] - 18s 728us/step - loss: 4.1876e-05 - acc: 1.0000 - val_loss: 0.8460 - val_acc: 0.8797\n",
      "Epoch 15/20\n",
      "25000/25000 [==============================] - 17s 674us/step - loss: 1.3157e-05 - acc: 1.0000 - val_loss: 0.9480 - val_acc: 0.8796\n",
      "Epoch 16/20\n",
      "25000/25000 [==============================] - 20s 818us/step - loss: 3.7221e-06 - acc: 1.0000 - val_loss: 1.0655 - val_acc: 0.8797\n",
      "Epoch 17/20\n",
      "25000/25000 [==============================] - 18s 736us/step - loss: 7.8734e-07 - acc: 1.0000 - val_loss: 1.2153 - val_acc: 0.8796\n",
      "Epoch 18/20\n",
      "25000/25000 [==============================] - 17s 674us/step - loss: 0.0911 - acc: 0.9940 - val_loss: 3.3051 - val_acc: 0.7500\n",
      "Epoch 19/20\n",
      "25000/25000 [==============================] - 18s 723us/step - loss: 0.0228 - acc: 0.9978 - val_loss: 0.9203 - val_acc: 0.8793\n",
      "Epoch 20/20\n",
      "25000/25000 [==============================] - 25s 1ms/step - loss: 3.1404e-06 - acc: 1.0000 - val_loss: 0.9664 - val_acc: 0.8795\n"
     ]
    }
   ],
   "source": [
    "bigger_model_hist = bigger_model.fit(x_train, y_train,\n",
    "                                     epochs=20,\n",
    "                                     batch_size=512,\n",
    "                                     validation_data=(x_test, y_test))"
   ]
  },
  {
   "cell_type": "markdown",
   "metadata": {},
   "source": [
    "Here's how the bigger network fares compared to the reference one. The dots are the validation loss values of the bigger network, and the \n",
    "crosses are the initial network."
   ]
  },
  {
   "cell_type": "code",
   "execution_count": 35,
   "metadata": {},
   "outputs": [
    {
     "data": {
      "image/png": "[encoded data removed]",
      "text/plain": [
       "<Figure size 432x288 with 1 Axes>"
      ]
     },
     "metadata": {
      "needs_background": "light"
     },
     "output_type": "display_data"
    }
   ],
   "source": [
    "bigger_model_val_loss = bigger_model_hist.history['val_loss']\n",
    "\n",
    "plt.plot(epochs, original_val_loss, 'b+', label='Original model')\n",
    "plt.plot(epochs, bigger_model_val_loss, 'bo', label='Bigger model')\n",
    "plt.xlabel('Epochs')\n",
    "plt.ylabel('Validation loss')\n",
    "plt.legend()\n",
    "\n",
    "plt.show()"
   ]
  },
  {
   "cell_type": "markdown",
   "metadata": {},
   "source": [
    "\n",
    "The bigger network starts overfitting almost right away, after just one epoch, and overfits much more severely. Its validation loss is also \n",
    "more noisy.\n",
    "\n",
    "Meanwhile, here are the training losses for our two networks:"
   ]
  },
  {
   "cell_type": "code",
   "execution_count": 36,
   "metadata": {},
   "outputs": [
    {
     "data": {
      "image/png": "[encoded data removed]",
      "text/plain": [
       "<Figure size 432x288 with 1 Axes>"
      ]
     },
     "metadata": {
      "needs_background": "light"
     },
     "output_type": "display_data"
    }
   ],
   "source": [
    "original_train_loss = original_hist.history['loss']\n",
    "bigger_model_train_loss = bigger_model_hist.history['loss']\n",
    "\n",
    "plt.plot(epochs, original_train_loss, 'b+', label='Original model')\n",
    "plt.plot(epochs, bigger_model_train_loss, 'bo', label='Bigger model')\n",
    "plt.xlabel('Epochs')\n",
    "plt.ylabel('Training loss')\n",
    "plt.legend()\n",
    "\n",
    "plt.show()"
   ]
  },
  {
   "cell_type": "markdown",
   "metadata": {},
   "source": [
    "As you can see, the bigger network gets its training loss near zero very quickly. The more capacity the network has, the quicker it will be \n",
    "able to model the training data (resulting in a low training loss), but the more susceptible it is to overfitting (resulting in a large \n",
    "difference between the training and validation loss)."
   ]
  },
  {
   "cell_type": "markdown",
   "metadata": {},
   "source": [
    "## Adding weight regularization\n",
    "\n",
    "\n",
    "You may be familiar with _Occam's Razor_ principle: given two explanations for something, the explanation most likely to be correct is the \n",
    "\"simplest\" one, the one that makes the least amount of assumptions. This also applies to the models learned by neural networks: given some \n",
    "training data and a network architecture, there are multiple sets of weights values (multiple _models_) that could explain the data, and \n",
    "simpler models are less likely to overfit than complex ones.\n",
    "\n",
    "A \"simple model\" in this context is a model where the distribution of parameter values has less entropy (or a model with fewer \n",
    "parameters altogether, as we saw in the section above). Thus a common way to mitigate overfitting is to put constraints on the complexity \n",
    "of a network by forcing its weights to only take small values, which makes the distribution of weight values more \"regular\". This is called \n",
    "\"weight regularization\", and it is done by adding to the loss function of the network a _cost_ associated with having large weights. This \n",
    "cost comes in two flavors:\n",
    "\n",
    "* L1 regularization, where the cost added is proportional to the _absolute value of the weights coefficients_ (i.e. to what is called the \n",
    "\"L1 norm\" of the weights).\n",
    "* L2 regularization, where the cost added is proportional to the _square of the value of the weights coefficients_ (i.e. to what is called \n",
    "the \"L2 norm\" of the weights). L2 regularization is also called _weight decay_ in the context of neural networks. Don't let the different \n",
    "name confuse you: weight decay is mathematically the exact same as L2 regularization.\n",
    "\n",
    "In Keras, weight regularization is added by passing _weight regularizer instances_ to layers as keyword arguments. Let's add L2 weight \n",
    "regularization to our movie review classification network:"
   ]
  },
  {
   "cell_type": "code",
   "execution_count": 37,
   "metadata": {},
   "outputs": [],
   "source": [
    "from keras import regularizers\n",
    "\n",
    "l2_model = models.Sequential()\n",
    "l2_model.add(layers.Dense(16, kernel_regularizer=regularizers.l2(0.001),\n",
    "                          activation='relu', input_shape=(10000,)))\n",
    "l2_model.add(layers.Dense(16, kernel_regularizer=regularizers.l2(0.001),\n",
    "                          activation='relu'))\n",
    "l2_model.add(layers.Dense(1, activation='sigmoid'))"
   ]
  },
  {
   "cell_type": "code",
   "execution_count": 38,
   "metadata": {},
   "outputs": [],
   "source": [
    "l2_model.compile(optimizer='rmsprop',\n",
    "                 loss='binary_crossentropy',\n",
    "                 metrics=['acc'])"
   ]
  },
  {
   "cell_type": "markdown",
   "metadata": {},
   "source": [
    "`l2(0.001)` means that every coefficient in the weight matrix of the layer will add `0.001 * weight_coefficient_value` to the total loss of \n",
    "the network. Note that because this penalty is _only added at training time_, the loss for this network will be much higher at training \n",
    "than at test time.\n",
    "\n",
    "Here's the impact of our L2 regularization penalty:"
   ]
  },
  {
   "cell_type": "code",
   "execution_count": 39,
   "metadata": {},
   "outputs": [
    {
     "name": "stdout",
     "output_type": "stream",
     "text": [
      "Train on 25000 samples, validate on 25000 samples\n",
      "Epoch 1/20\n",
      "25000/25000 [==============================] - 3s 133us/step - loss: 0.4922 - acc: 0.8204 - val_loss: 0.4052 - val_acc: 0.8552\n",
      "Epoch 2/20\n",
      "25000/25000 [==============================] - 3s 132us/step - loss: 0.3114 - acc: 0.9070 - val_loss: 0.3622 - val_acc: 0.8710\n",
      "Epoch 3/20\n",
      "25000/25000 [==============================] - 4s 159us/step - loss: 0.2704 - acc: 0.9198 - val_loss: 0.3340 - val_acc: 0.8861\n",
      "Epoch 4/20\n",
      "25000/25000 [==============================] - 4s 175us/step - loss: 0.2483 - acc: 0.9277 - val_loss: 0.3313 - val_acc: 0.8880\n",
      "Epoch 5/20\n",
      "25000/25000 [==============================] - 5s 180us/step - loss: 0.2354 - acc: 0.9351 - val_loss: 0.3398 - val_acc: 0.8836\n",
      "Epoch 6/20\n",
      "25000/25000 [==============================] - 5s 182us/step - loss: 0.2299 - acc: 0.9360 - val_loss: 0.3690 - val_acc: 0.8749\n",
      "Epoch 7/20\n",
      "25000/25000 [==============================] - 5s 202us/step - loss: 0.2225 - acc: 0.9385 - val_loss: 0.3525 - val_acc: 0.8805\n",
      "Epoch 8/20\n",
      "25000/25000 [==============================] - 5s 180us/step - loss: 0.2138 - acc: 0.9436 - val_loss: 0.3676 - val_acc: 0.8749\n",
      "Epoch 9/20\n",
      "25000/25000 [==============================] - 5s 183us/step - loss: 0.2129 - acc: 0.9421 - val_loss: 0.3686 - val_acc: 0.8764\n",
      "Epoch 10/20\n",
      "25000/25000 [==============================] - 4s 171us/step - loss: 0.2065 - acc: 0.9444 - val_loss: 0.3718 - val_acc: 0.8746\n",
      "Epoch 11/20\n",
      "25000/25000 [==============================] - 4s 164us/step - loss: 0.2047 - acc: 0.9463 - val_loss: 0.3801 - val_acc: 0.8747\n",
      "Epoch 12/20\n",
      "25000/25000 [==============================] - 4s 161us/step - loss: 0.2038 - acc: 0.9462 - val_loss: 0.3832 - val_acc: 0.8737\n",
      "Epoch 13/20\n",
      "25000/25000 [==============================] - 5s 193us/step - loss: 0.1960 - acc: 0.9506 - val_loss: 0.4663 - val_acc: 0.8537\n",
      "Epoch 14/20\n",
      "25000/25000 [==============================] - 5s 199us/step - loss: 0.1953 - acc: 0.9490 - val_loss: 0.4529 - val_acc: 0.8572\n",
      "Epoch 15/20\n",
      "25000/25000 [==============================] - 5s 200us/step - loss: 0.1922 - acc: 0.9509 - val_loss: 0.4193 - val_acc: 0.8657\n",
      "Epoch 16/20\n",
      "25000/25000 [==============================] - 6s 236us/step - loss: 0.1907 - acc: 0.9516 - val_loss: 0.4193 - val_acc: 0.8667\n",
      "Epoch 17/20\n",
      "25000/25000 [==============================] - 6s 243us/step - loss: 0.1850 - acc: 0.9540 - val_loss: 0.4558 - val_acc: 0.8608\n",
      "Epoch 18/20\n",
      "25000/25000 [==============================] - 7s 285us/step - loss: 0.1820 - acc: 0.9557 - val_loss: 0.4092 - val_acc: 0.8707\n",
      "Epoch 19/20\n",
      "25000/25000 [==============================] - 5s 199us/step - loss: 0.1802 - acc: 0.9559 - val_loss: 0.4667 - val_acc: 0.8545\n",
      "Epoch 20/20\n",
      "25000/25000 [==============================] - 4s 178us/step - loss: 0.1787 - acc: 0.9576 - val_loss: 0.4255 - val_acc: 0.8682\n"
     ]
    }
   ],
   "source": [
    "l2_model_hist = l2_model.fit(x_train, y_train,\n",
    "                             epochs=20,\n",
    "                             batch_size=512,\n",
    "                             validation_data=(x_test, y_test))"
   ]
  },
  {
   "cell_type": "code",
   "execution_count": 40,
   "metadata": {},
   "outputs": [
    {
     "data": {
      "image/png": "[encoded data removed]",
      "text/plain": [
       "<Figure size 432x288 with 1 Axes>"
      ]
     },
     "metadata": {
      "needs_background": "light"
     },
     "output_type": "display_data"
    }
   ],
   "source": [
    "l2_model_val_loss = l2_model_hist.history['val_loss']\n",
    "\n",
    "plt.plot(epochs, original_val_loss, 'b+', label='Original model')\n",
    "plt.plot(epochs, l2_model_val_loss, 'bo', label='L2-regularized model')\n",
    "plt.xlabel('Epochs')\n",
    "plt.ylabel('Validation loss')\n",
    "plt.legend()\n",
    "\n",
    "plt.show()"
   ]
  },
  {
   "cell_type": "markdown",
   "metadata": {},
   "source": [
    "\n",
    "\n",
    "As you can see, the model with L2 regularization (dots) has become much more resistant to overfitting than the reference model (crosses), \n",
    "even though both models have the same number of parameters.\n",
    "\n",
    "As alternatives to L2 regularization, you could use one of the following Keras weight regularizers:"
   ]
  },
  {
   "cell_type": "code",
   "execution_count": 41,
   "metadata": {},
   "outputs": [
    {
     "data": {
      "text/plain": [
       "<keras.regularizers.L1L2 at 0x7f8cbbd79210>"
      ]
     },
     "execution_count": 41,
     "metadata": {},
     "output_type": "execute_result"
    }
   ],
   "source": [
    "from keras import regularizers\n",
    "\n",
    "# L1 regularization\n",
    "regularizers.l1(0.001)\n",
    "\n",
    "# L1 and L2 regularization at the same time\n",
    "regularizers.l1_l2(l1=0.001, l2=0.001)"
   ]
  },
  {
   "cell_type": "markdown",
   "metadata": {},
   "source": [
    "## Adding dropout\n",
    "\n",
    "\n",
    "Dropout is one of the most effective and most commonly used regularization techniques for neural networks, developed by Hinton and his \n",
    "students at the University of Toronto. Dropout, applied to a layer, consists of randomly \"dropping out\" (i.e. setting to zero) a number of \n",
    "output features of the layer during training. Let's say a given layer would normally have returned a vector `[0.2, 0.5, 1.3, 0.8, 1.1]` for a \n",
    "given input sample during training; after applying dropout, this vector will have a few zero entries distributed at random, e.g. `[0, 0.5, \n",
    "1.3, 0, 1.1]`. The \"dropout rate\" is the fraction of the features that are being zeroed-out; it is usually set between 0.2 and 0.5. At test \n",
    "time, no units are dropped out, and instead the layer's output values are scaled down by a factor equal to the dropout rate, so as to \n",
    "balance for the fact that more units are active than at training time.\n",
    "\n",
    "Consider a Numpy matrix containing the output of a layer, `layer_output`, of shape `(batch_size, features)`. At training time, we would be \n",
    "zero-ing out at random a fraction of the values in the matrix:"
   ]
  },
  {
   "cell_type": "code",
   "execution_count": null,
   "metadata": {},
   "outputs": [],
   "source": [
    "# At training time: we drop out 50% of the units in the output\n",
    "layer_output *= np.randint(0, high=2, size=layer_output.shape)"
   ]
  },
  {
   "cell_type": "markdown",
   "metadata": {},
   "source": [
    "\n",
    "At test time, we would be scaling the output down by the dropout rate. Here we scale by 0.5 (because we were previous dropping half the \n",
    "units):"
   ]
  },
  {
   "cell_type": "code",
   "execution_count": null,
   "metadata": {
    "collapsed": true
   },
   "outputs": [],
   "source": [
    "# At test time:\n",
    "layer_output *= 0.5"
   ]
  },
  {
   "cell_type": "markdown",
   "metadata": {},
   "source": [
    "\n",
    "Note that this process can be implemented by doing both operations at training time and leaving the output unchanged at test time, which is \n",
    "often the way it is implemented in practice:"
   ]
  },
  {
   "cell_type": "code",
   "execution_count": null,
   "metadata": {
    "collapsed": true
   },
   "outputs": [],
   "source": [
    "# At training time:\n",
    "layer_output *= np.randint(0, high=2, size=layer_output.shape)\n",
    "# Note that we are scaling *up* rather scaling *down* in this case\n",
    "layer_output /= 0.5"
   ]
  },
  {
   "cell_type": "markdown",
   "metadata": {},
   "source": [
    "\n",
    "This technique may seem strange and arbitrary. Why would this help reduce overfitting? Geoff Hinton has said that he was inspired, among \n",
    "other things, by a fraud prevention mechanism used by banks -- in his own words: _\"I went to my bank. The tellers kept changing and I asked \n",
    "one of them why. He said he didn’t know but they got moved around a lot. I figured it must be because it would require cooperation \n",
    "between employees to successfully defraud the bank. This made me realize that randomly removing a different subset of neurons on each \n",
    "example would prevent conspiracies and thus reduce overfitting\"_.\n",
    "\n",
    "The core idea is that introducing noise in the output values of a layer can break up happenstance patterns that are not significant (what \n",
    "Hinton refers to as \"conspiracies\"), which the network would start memorizing if no noise was present. \n",
    "\n",
    "In Keras you can introduce dropout in a network via the `Dropout` layer, which gets applied to the output of layer right before it, e.g.:"
   ]
  },
  {
   "cell_type": "code",
   "execution_count": null,
   "metadata": {
    "collapsed": true
   },
   "outputs": [],
   "source": [
    "model.add(layers.Dropout(0.5))"
   ]
  },
  {
   "cell_type": "markdown",
   "metadata": {},
   "source": [
    "Let's add two `Dropout` layers in our IMDB network to see how well they do at reducing overfitting:"
   ]
  },
  {
   "cell_type": "code",
   "execution_count": 43,
   "metadata": {},
   "outputs": [],
   "source": [
    "dpt_model = models.Sequential()\n",
    "dpt_model.add(layers.Dense(16, activation='relu', input_shape=(10000,)))\n",
    "dpt_model.add(layers.Dropout(0.5))\n",
    "dpt_model.add(layers.Dense(16, activation='relu'))\n",
    "dpt_model.add(layers.Dropout(0.5))\n",
    "dpt_model.add(layers.Dense(1, activation='sigmoid'))\n",
    "\n",
    "dpt_model.compile(optimizer='rmsprop',\n",
    "                  loss='binary_crossentropy',\n",
    "                  metrics=['acc'])"
   ]
  },
  {
   "cell_type": "code",
   "execution_count": 44,
   "metadata": {},
   "outputs": [
    {
     "name": "stdout",
     "output_type": "stream",
     "text": [
      "Train on 25000 samples, validate on 25000 samples\n",
      "Epoch 1/20\n",
      "25000/25000 [==============================] - 4s 166us/step - loss: 0.6044 - acc: 0.6854 - val_loss: 0.5050 - val_acc: 0.8606\n",
      "Epoch 2/20\n",
      "25000/25000 [==============================] - 3s 126us/step - loss: 0.4775 - acc: 0.8091 - val_loss: 0.3988 - val_acc: 0.8772\n",
      "Epoch 3/20\n",
      "25000/25000 [==============================] - 3s 137us/step - loss: 0.3982 - acc: 0.8637 - val_loss: 0.3443 - val_acc: 0.8838\n",
      "Epoch 4/20\n",
      "25000/25000 [==============================] - 3s 140us/step - loss: 0.3412 - acc: 0.8886 - val_loss: 0.3146 - val_acc: 0.8827\n",
      "Epoch 5/20\n",
      "25000/25000 [==============================] - 3s 139us/step - loss: 0.2970 - acc: 0.9052 - val_loss: 0.3025 - val_acc: 0.8833\n",
      "Epoch 6/20\n",
      "25000/25000 [==============================] - 3s 139us/step - loss: 0.2648 - acc: 0.9171 - val_loss: 0.3027 - val_acc: 0.8845\n",
      "Epoch 7/20\n",
      "25000/25000 [==============================] - 3s 137us/step - loss: 0.2344 - acc: 0.9258 - val_loss: 0.3082 - val_acc: 0.8805\n",
      "Epoch 8/20\n",
      "25000/25000 [==============================] - 4s 141us/step - loss: 0.2171 - acc: 0.9315 - val_loss: 0.3375 - val_acc: 0.8840\n",
      "Epoch 9/20\n",
      "25000/25000 [==============================] - 4s 147us/step - loss: 0.1976 - acc: 0.9374 - val_loss: 0.3343 - val_acc: 0.8742\n",
      "Epoch 10/20\n",
      "25000/25000 [==============================] - 4s 157us/step - loss: 0.1838 - acc: 0.9422 - val_loss: 0.3610 - val_acc: 0.8800\n",
      "Epoch 11/20\n",
      "25000/25000 [==============================] - 4s 154us/step - loss: 0.1739 - acc: 0.9433 - val_loss: 0.3822 - val_acc: 0.8787\n",
      "Epoch 12/20\n",
      "25000/25000 [==============================] - 4s 159us/step - loss: 0.1603 - acc: 0.9478 - val_loss: 0.3906 - val_acc: 0.8765\n",
      "Epoch 13/20\n",
      "25000/25000 [==============================] - 4s 165us/step - loss: 0.1563 - acc: 0.9492 - val_loss: 0.4294 - val_acc: 0.8785\n",
      "Epoch 14/20\n",
      "25000/25000 [==============================] - 4s 167us/step - loss: 0.1482 - acc: 0.9504 - val_loss: 0.4354 - val_acc: 0.8751\n",
      "Epoch 15/20\n",
      "25000/25000 [==============================] - 4s 159us/step - loss: 0.1394 - acc: 0.9541 - val_loss: 0.4738 - val_acc: 0.8774\n",
      "Epoch 16/20\n",
      "25000/25000 [==============================] - 4s 162us/step - loss: 0.1378 - acc: 0.9553 - val_loss: 0.4842 - val_acc: 0.8756\n",
      "Epoch 17/20\n",
      "25000/25000 [==============================] - 4s 174us/step - loss: 0.1347 - acc: 0.9549 - val_loss: 0.5189 - val_acc: 0.8762\n",
      "Epoch 18/20\n",
      "25000/25000 [==============================] - 5s 183us/step - loss: 0.1315 - acc: 0.9577 - val_loss: 0.5351 - val_acc: 0.8747\n",
      "Epoch 19/20\n",
      "25000/25000 [==============================] - 5s 191us/step - loss: 0.1289 - acc: 0.9590 - val_loss: 0.5485 - val_acc: 0.8704\n",
      "Epoch 20/20\n",
      "25000/25000 [==============================] - 5s 193us/step - loss: 0.1282 - acc: 0.9573 - val_loss: 0.5600 - val_acc: 0.8702\n"
     ]
    }
   ],
   "source": [
    "dpt_model_hist = dpt_model.fit(x_train, y_train,\n",
    "                               epochs=20,\n",
    "                               batch_size=512,\n",
    "                               validation_data=(x_test, y_test))"
   ]
  },
  {
   "cell_type": "markdown",
   "metadata": {},
   "source": [
    "Let's plot the results:"
   ]
  },
  {
   "cell_type": "code",
   "execution_count": 45,
   "metadata": {},
   "outputs": [
    {
     "data": {
      "image/png": "[encoded data removed]",
      "text/plain": [
       "<Figure size 432x288 with 1 Axes>"
      ]
     },
     "metadata": {
      "needs_background": "light"
     },
     "output_type": "display_data"
    }
   ],
   "source": [
    "dpt_model_val_loss = dpt_model_hist.history['val_loss']\n",
    "\n",
    "plt.plot(epochs, original_val_loss, 'b+', label='Original model')\n",
    "plt.plot(epochs, dpt_model_val_loss, 'bo', label='Dropout-regularized model')\n",
    "plt.xlabel('Epochs')\n",
    "plt.ylabel('Validation loss')\n",
    "plt.legend()\n",
    "\n",
    "plt.show()"
   ]
  },
  {
   "cell_type": "markdown",
   "metadata": {},
   "source": [
    "\n",
    "Again, a clear improvement over the reference network.\n",
    "\n",
    "To recap: here the most common ways to prevent overfitting in neural networks:\n",
    "\n",
    "* Getting more training data.\n",
    "* Reducing the capacity of the network.\n",
    "* Adding weight regularization.\n",
    "* Adding dropout."
   ]
  },
  {
   "cell_type": "markdown",
   "metadata": {},
   "source": [
    "# In-class Exercise: Real-bogus classification for the Zwicky Transient Facility (ZTF) using deep learning"
   ]
  },
  {
   "cell_type": "markdown",
   "metadata": {},
   "source": [
    "## Efficient automated detection of flux-transient, reoccurring flux-variable, and moving objects is increasingly important for large-scale astronomical surveys.\n",
    "\n",
    "* Events observed by ZTF may have been triggered from a flux-transient, a reoccurring flux-variable, or a moving object. The metadata and contextual information including the cutouts are put into \"alert packets\" that are distributed via the ZTF Alert Distribution System (ZADS). On a typical night, the number of detected events ranges from $10^5 - 10^6$."
   ]
  },
  {
   "cell_type": "markdown",
   "metadata": {},
   "source": [
    "<img src='img/fig-ztf_alerts.png'>"
   ]
  },
  {
   "cell_type": "markdown",
   "metadata": {},
   "source": [
    "* The real/bogus ($rb$) machine learning (ML) classifiers are designed to separate genuine astrophysical events from bogus detections by scoring individual sources on a scale from 0.0 (bogus) to 1.0 (real). Currently, ZTF employs two $rb$ classifiers: a feature-based random forest classifier ($rfrb$), and `braai` a convolutional-neural-network, deep-learning classifier.\n",
    "* In this tutorial, we will build a deep $rb$ classifier based on `braai`. We will use a data set consisting of $11.5k$ labeled alerts from the [ZTF public alert stream](https://ztf.uw.edu/alerts/public/).\n",
    "* For further details on `braai` please refer to For details, please see [Duev+ 2019, MNRAS, 489, 3582](https://academic.oup.com/mnras/article/489/3/3582/5554758) or [arXiv:1907.11259](https://arxiv.org/pdf/1907.11259.pdf)."
   ]
  },
  {
   "cell_type": "markdown",
   "metadata": {},
   "source": [
    "### Imports"
   ]
  },
  {
   "cell_type": "code",
   "execution_count": 1,
   "metadata": {},
   "outputs": [],
   "source": [
    "from IPython.display import HTML, display\n",
    "import tqdm\n",
    "import json\n",
    "import numpy as np\n",
    "import pandas as pd\n",
    "import tensorflow as tf\n",
    "from sklearn.metrics import roc_curve, auc, confusion_matrix\n",
    "from sklearn.model_selection import train_test_split\n",
    "import datetime\n",
    "from astropy.time import Time\n",
    "\n",
    "import os\n",
    "import io\n",
    "import gzip\n",
    "from astropy.io import fits\n",
    "# pip install pymongo\n",
    "from bson.json_util import loads, dumps\n",
    "\n",
    "import matplotlib.pyplot as plt\n",
    "# plt.style.use(['dark_background'])\n",
    "from pandas.plotting import register_matplotlib_converters, scatter_matrix\n",
    "register_matplotlib_converters()\n",
    "%matplotlib inline"
   ]
  },
  {
   "cell_type": "markdown",
   "metadata": {},
   "source": [
    "### Data set\n",
    "\n",
    "Download from `skipper` if necessary:"
   ]
  },
  {
   "cell_type": "code",
   "execution_count": null,
   "metadata": {},
   "outputs": [],
   "source": [
    "!wget -O candidates.csv https://storage.googleapis.com/ztf-braai/braai.candidates.programid1.csv\n",
    "!wget -O triplets.norm.npy https://storage.googleapis.com/ztf-braai/braai.triplets.norm.programid1.npy\n",
    "!ls"
   ]
  },
  {
   "cell_type": "markdown",
   "metadata": {},
   "source": [
    "#### Candidates\n",
    "\n",
    "First load the $csv$ file containing the `candidate` block of the alerts (cutouts and previous detections are excluded). All alerts are labeled (0=bogus, 1=real)."
   ]
  },
  {
   "cell_type": "code",
   "execution_count": null,
   "metadata": {},
   "outputs": [],
   "source": [
    "df = pd.read_csv('data/candidates.csv')\n",
    "display(df)\n",
    "df.info()\n",
    "df.describe()"
   ]
  },
  {
   "cell_type": "code",
   "execution_count": null,
   "metadata": {},
   "outputs": [],
   "source": [
    "print(f'num_bogus: {np.sum(df.label == 0)}')\n",
    "print(f'num_real: {np.sum(df.label == 1)}')"
   ]
  },
  {
   "cell_type": "markdown",
   "metadata": {},
   "source": [
    "#### Cutout images"
   ]
  },
  {
   "cell_type": "code",
   "execution_count": 5,
   "metadata": {},
   "outputs": [],
   "source": [
    "def make_triplet(alert, normalize: bool = False, to_tpu: bool = False):\n",
    "    \"\"\"\n",
    "        Feed in alert packet\n",
    "    \"\"\"\n",
    "    cutout_dict = dict()\n",
    "\n",
    "    for cutout in ('science', 'template', 'difference'):\n",
    "        cutout_data = loads(dumps([alert[f'cutout{cutout.capitalize()}']['stampData']]))[0]\n",
    "\n",
    "        # unzip\n",
    "        with gzip.open(io.BytesIO(cutout_data), 'rb') as f:\n",
    "            with fits.open(io.BytesIO(f.read())) as hdu:\n",
    "                data = hdu[0].data\n",
    "                # replace nans with zeros\n",
    "                cutout_dict[cutout] = np.nan_to_num(data)\n",
    "                # normalize\n",
    "                if normalize:\n",
    "                    cutout_dict[cutout] /= np.linalg.norm(cutout_dict[cutout])\n",
    "\n",
    "        # pad to 63x63 if smaller\n",
    "        shape = cutout_dict[cutout].shape\n",
    "        if shape != (63, 63):\n",
    "            # print(f'Shape of {candid}/{cutout}: {shape}, padding to (63, 63)')\n",
    "            cutout_dict[cutout] = np.pad(cutout_dict[cutout], [(0, 63 - shape[0]), (0, 63 - shape[1])],\n",
    "                                         mode='constant', constant_values=1e-9)\n",
    "\n",
    "    triplet = np.zeros((63, 63, 3))\n",
    "    triplet[:, :, 0] = cutout_dict['science']\n",
    "    triplet[:, :, 1] = cutout_dict['template']\n",
    "    triplet[:, :, 2] = cutout_dict['difference']\n",
    "    \n",
    "    if to_tpu:\n",
    "        # Edge TPUs require additional processing\n",
    "        triplet = np.rint(triplet * 128 + 128).astype(np.uint8).flatten()\n",
    "    \n",
    "    return triplet"
   ]
  },
  {
   "cell_type": "markdown",
   "metadata": {},
   "source": [
    "We will now load pre-processed image cutout triplets: [epochal science image, reference image, ZOGY difference image]. The ZTF cutout images are centered on the event candidate and are of size 63x63 pixels (or smaller, if the event is detected near the CCD edge) at a plate scale of 1$\"$ per pixel. We perform independent $L^2$-normalization of the epochal science, reference, and difference cutouts and stack them to form 63x63x3 triplets that are input into the model. Smaller examples are accordingly padded using a constant pixel value of $10^{-9}$. See function `make_triplet` above."
   ]
  },
  {
   "cell_type": "code",
   "execution_count": 7,
   "metadata": {},
   "outputs": [],
   "source": [
    "# We will use memory mapping as the file is relatively large (1 GB)\n",
    "triplets = np.load('data/triplets.norm.npy', mmap_mode='r')"
   ]
  },
  {
   "cell_type": "markdown",
   "metadata": {},
   "source": [
    "#### Visuals\n",
    "\n",
    "Plot a few triplet examples:"
   ]
  },
  {
   "cell_type": "code",
   "execution_count": null,
   "metadata": {},
   "outputs": [],
   "source": [
    "ind = np.random.randint(0, high=len(df), size=5)\n",
    "for ii in ind:\n",
    "    print(f'candid: {df.loc[ii, \"candid\"]}, label: {df.loc[ii, \"label\"]}')\n",
    "    fig = plt.figure(figsize=(8, 2), dpi=100)\n",
    "    triplet = triplets[ii, :]\n",
    "    ax = fig.add_subplot(131)\n",
    "    ax.axis('off')\n",
    "    ax.imshow(triplet[:, :, 0], origin='lower', cmap=plt.cm.bone)\n",
    "    ax2 = fig.add_subplot(132)\n",
    "    ax2.axis('off')\n",
    "    ax2.imshow(triplet[:, :, 1], origin='lower', cmap=plt.cm.bone)\n",
    "    ax3 = fig.add_subplot(133)\n",
    "    ax3.axis('off')\n",
    "    ax3.imshow(triplet[:, :, 2], origin='lower', cmap=plt.cm.bone)\n",
    "    plt.show()"
   ]
  },
  {
   "cell_type": "markdown",
   "metadata": {},
   "source": [
    "Let's explore the dataset a little bit:"
   ]
  },
  {
   "cell_type": "code",
   "execution_count": null,
   "metadata": {},
   "outputs": [],
   "source": [
    "fig = plt.figure(figsize=(8, 8), dpi=100)\n",
    "ax = fig.add_subplot(111)\n",
    "\n",
    "color_wheel = {0: \"#dc3545\", \n",
    "               1: \"#28a745\"}\n",
    "colors = df[\"label\"].map(lambda x: color_wheel.get(x))\n",
    "\n",
    "columns = ['magpsf', 'fwhm', 'ndethist', 'scorr']\n",
    "\n",
    "axx = scatter_matrix(df.loc[df.label >= 0, columns], \n",
    "                     alpha=0.2,  diagonal='hist', ax=ax, grid=True, color=colors,\n",
    "                     hist_kwds={'color': 'darkblue', 'alpha': 0, 'bins': 50})\n",
    "\n",
    "for rc in range(len(columns)):\n",
    "    rc_y_max = 0\n",
    "    for group in color_wheel.keys():\n",
    "        y = df[df.label == group][columns[rc]]\n",
    "        hh = axx[rc][rc].hist(y, bins=50, alpha=0.5, color=color_wheel[group], density=1)\n",
    "#         print(np.min(hh[0]), np.max(hh[0]))\n",
    "        rc_y_max = max(rc_y_max, np.max(hh[0]))\n",
    "        axx[rc][rc].set_ylim([0, 1.1*rc_y_max])\n",
    "\n",
    "# scatter_matrix(df.loc[df.label == 0, ['magpsf', 'fwhm', 'ndethist']], \n",
    "#                alpha=0.2,  diagonal='hist', ax=ax,\n",
    "#                hist_kwds={'color': '#dc3545', 'alpha': 0.5, 'bins': 100}, color='#dc3545')\n",
    "# scatter_matrix(df.loc[df.label == 1, ['magpsf', 'fwhm', 'ndethist']], \n",
    "#                alpha=0.2,  diagonal='hist', ax=ax,\n",
    "#                hist_kwds={'color': '#28a745', 'alpha': 0.5, 'bins': 100}, color='#28a745')"
   ]
  },
  {
   "cell_type": "code",
   "execution_count": null,
   "metadata": {},
   "outputs": [],
   "source": [
    "df['date'] = df['jd'].map(lambda x: Time(x, format='jd').datetime)\n",
    "fig = plt.figure(figsize=(7, 3), dpi=100)\n",
    "ax = fig.add_subplot(111)\n",
    "ax.hist(df.loc[df['label'] == 0, 'date'], bins=50, #linestyle='dashed',\n",
    "        color=color_wheel[0], histtype='step', label='bogus', linewidth=1.2)\n",
    "ax.hist(df.loc[df['label'] == 1, 'date'], bins=50,\n",
    "        color=color_wheel[1], histtype='step', label='real', linewidth=1.2)\n",
    "# ax.set_xlabel('Date')\n",
    "ax.set_ylabel('Count')\n",
    "ax.legend(loc='best')\n",
    "ax.grid(True, linewidth=.3)\n",
    "plt.tight_layout()"
   ]
  },
  {
   "cell_type": "markdown",
   "metadata": {},
   "source": [
    "We will use 81\\% / 9\\% / 10\\% training/validation/test data split:"
   ]
  },
  {
   "cell_type": "code",
   "execution_count": null,
   "metadata": {},
   "outputs": [],
   "source": [
    "test_split = 0.1\n",
    "\n",
    "# set random seed for reproducable results:\n",
    "random_state = 42\n",
    "\n",
    "x_train, x_test, y_train, y_test = train_test_split(triplets, df.label, \n",
    "                                                    test_size=test_split, random_state=random_state)\n",
    "print(x_train.shape, x_test.shape, y_train.shape, y_test.shape)"
   ]
  },
  {
   "cell_type": "markdown",
   "metadata": {},
   "source": [
    "### `braai` architecture\n",
    "\n",
    "We will use a simple custom VGG-like sequential model ($VGG6$; this architecture was first proposed by the Visual Geometry Group of the Department of Engineering Science, University of Oxford, UK). The model has six layers with trainable parameters: four convolutional and two fully-connected. The first two convolutional layers use 16 3x3 pixel filters each while in the second pair, 32 3x3 pixel filters are used. To prevent over-fitting, a dropout rate of 0.25 is applied after each max-pooling layer and a dropout rate of 0.5 is applied after the second fully-connected layer. ReLU activation functions (Rectified Linear Unit --  a function defined as the positive part of its argument) are used for all five hidden trainable layers; a sigmoid activation function is used for the output layer.\n",
    "\n",
    "![](img/fig-braai2.png)"
   ]
  },
  {
   "cell_type": "code",
   "execution_count": 10,
   "metadata": {},
   "outputs": [],
   "source": [
    "def vgg6(input_shape=(63, 63, 3), n_classes: int = 1):\n",
    "    \"\"\"\n",
    "        VGG6\n",
    "    :param input_shape:\n",
    "    :param n_classes:\n",
    "    :return:\n",
    "    \"\"\"\n",
    "\n",
    "    model = tf.keras.models.Sequential(name='VGG6')\n",
    "    # input: 63x63 images with 3 channel -> (63, 63, 3) tensors.\n",
    "    # this applies 16 convolution filters of size 3x3 each.\n",
    "    model.add(tf.keras.layers.Conv2D(16, (3, 3), activation='relu', input_shape=input_shape, name='conv1'))\n",
    "    model.add(tf.keras.layers.Conv2D(16, (3, 3), activation='relu', name='conv2'))\n",
    "    model.add(tf.keras.layers.MaxPooling2D(pool_size=(2, 2)))\n",
    "    model.add(tf.keras.layers.Dropout(0.25))\n",
    "\n",
    "    model.add(tf.keras.layers.Conv2D(32, (3, 3), activation='relu', name='conv3'))\n",
    "    model.add(tf.keras.layers.Conv2D(32, (3, 3), activation='relu', name='conv4'))\n",
    "    model.add(tf.keras.layers.MaxPooling2D(pool_size=(4, 4)))\n",
    "    model.add(tf.keras.layers.Dropout(0.25))\n",
    "\n",
    "    model.add(tf.keras.layers.Flatten())\n",
    "\n",
    "    model.add(tf.keras.layers.Dense(256, activation='relu', name='fc_1'))\n",
    "    model.add(tf.keras.layers.Dropout(0.5))\n",
    "    # output layer\n",
    "    activation = 'sigmoid' if n_classes == 1 else 'softmax'\n",
    "    model.add(tf.keras.layers.Dense(n_classes, activation=activation, name='fc_out'))\n",
    "\n",
    "    return model"
   ]
  },
  {
   "cell_type": "markdown",
   "metadata": {},
   "source": [
    "### Model training\n",
    "\n",
    "`braai` is implemented using `TensorFlow` software and its high-level `Keras` API. We will use the binary cross-entropy loss function, the Adam optimizer, a batch size of 64, and a 81\\%/9\\%/10\\% training/validation/test data split. The training image data are weighted per class to mitigate the real vs. bogus imbalance in the data sets. To augment the data, the images may be flipped horizontally and/or vertically at random. No random rotations and translations will be added."
   ]
  },
  {
   "cell_type": "code",
   "execution_count": 11,
   "metadata": {},
   "outputs": [],
   "source": [
    "def save_report(path: str = './', stamp: str = None, report: dict = dict()):\n",
    "    f_name = os.path.join(path, f'report.{stamp}.json')\n",
    "    with open(f_name, 'w') as f:\n",
    "        json.dump(report, f, indent=2)\n",
    "\n",
    "# make train and test masks:\n",
    "_, _, mask_train, mask_test = train_test_split(df.label, list(range(len(df.label))),\n",
    "                                                   test_size=test_split, random_state=random_state)\n",
    "masks = {'training': mask_train, 'test': mask_test}"
   ]
  },
  {
   "cell_type": "code",
   "execution_count": 12,
   "metadata": {},
   "outputs": [],
   "source": [
    "tf.keras.backend.clear_session()\n",
    "\n",
    "loss = 'binary_crossentropy'\n",
    "optimizer = 'adam'\n",
    "epochs = 100\n",
    "patience = 50\n",
    "# epochs = 10\n",
    "# patience = 5\n",
    "validation_split = 0.1\n",
    "class_weight = True\n",
    "batch_size = 64\n",
    "\n",
    "# halt training if no gain in validation accuracy over patience epochs\n",
    "early_stopping = tf.keras.callbacks.EarlyStopping(monitor='val_loss', patience=patience)\n",
    "\n",
    "data_augmentation = {'horizontal_flip': True,\n",
    "                     'vertical_flip': True,\n",
    "                     'rotation_range': 0,\n",
    "                     'fill_mode': 'constant',\n",
    "                     'cval': 1e-9}\n",
    "datagen = tf.keras.preprocessing.image.ImageDataGenerator(horizontal_flip=data_augmentation['horizontal_flip'],\n",
    "                                                          vertical_flip=data_augmentation['vertical_flip'],\n",
    "                                                          rotation_range=data_augmentation['rotation_range'],\n",
    "                                                          fill_mode=data_augmentation['fill_mode'],\n",
    "                                                          cval=data_augmentation['cval'],\n",
    "                                                          validation_split=validation_split)\n",
    "\n",
    "training_generator = datagen.flow(x_train, y_train, batch_size=batch_size, subset='training')\n",
    "validation_generator = datagen.flow(x_train, y_train, batch_size=batch_size, subset='validation')"
   ]
  },
  {
   "cell_type": "code",
   "execution_count": 13,
   "metadata": {},
   "outputs": [
    {
     "name": "stdout",
     "output_type": "stream",
     "text": [
      "Input image shape: (63, 63, 3)\n"
     ]
    }
   ],
   "source": [
    "binary_classification = True if loss == 'binary_crossentropy' else False\n",
    "n_classes = 1 if binary_classification else 2\n",
    "\n",
    "# training data weights\n",
    "if class_weight:\n",
    "    # weight data class depending on number of examples?\n",
    "    if not binary_classification:\n",
    "        num_training_examples_per_class = np.sum(y_train, axis=0)\n",
    "    else:\n",
    "        num_training_examples_per_class = np.array([len(y_train) - np.sum(y_train), np.sum(y_train)])\n",
    "\n",
    "    assert 0 not in num_training_examples_per_class, 'found class without any examples!'\n",
    "\n",
    "    # fewer examples -- larger weight\n",
    "    weights = (1 / num_training_examples_per_class) / np.linalg.norm((1 / num_training_examples_per_class))\n",
    "    normalized_weight = weights / np.max(weights)\n",
    "\n",
    "    class_weight = {i: w for i, w in enumerate(normalized_weight)}\n",
    "\n",
    "else:\n",
    "    class_weight = {i: 1 for i in range(2)}\n",
    "    \n",
    "# image shape:\n",
    "image_shape = x_train.shape[1:]\n",
    "print('Input image shape:', image_shape)"
   ]
  },
  {
   "cell_type": "markdown",
   "metadata": {},
   "source": [
    "Build and compile the model:"
   ]
  },
  {
   "cell_type": "code",
   "execution_count": null,
   "metadata": {},
   "outputs": [],
   "source": [
    "model = vgg6(input_shape=image_shape, n_classes=n_classes)\n",
    "\n",
    "# set up optimizer:\n",
    "if optimizer == 'adam':\n",
    "    optimzr = tf.keras.optimizers.Adam(lr=3e-4, beta_1=0.9, beta_2=0.999,\n",
    "                                       epsilon=None, decay=0.0, amsgrad=False)\n",
    "elif optimizer == 'sgd':\n",
    "    optimzr = tf.keras.optimizers.SGD(lr=0.01, momentum=0.9, decay=1e-6, nesterov=True)\n",
    "else:\n",
    "    print('Could not recognize optimizer, using Adam')\n",
    "    optimzr = tf.keras.optimizers.Adam(lr=3e-4, beta_1=0.9, beta_2=0.999,\n",
    "                                       epsilon=None, decay=0.0, amsgrad=False)\n",
    "\n",
    "model.compile(optimizer=optimzr, loss=loss, metrics=['accuracy'])\n",
    "\n",
    "print(model.summary())"
   ]
  },
  {
   "cell_type": "markdown",
   "metadata": {},
   "source": [
    "Train!"
   ]
  },
  {
   "cell_type": "code",
   "execution_count": null,
   "metadata": {},
   "outputs": [],
   "source": [
    "run_t_stamp = datetime.datetime.now().strftime(\"%Y%m%d_%H%M%S\")\n",
    "model_name = f'braai_{model.name}_{run_t_stamp}'\n",
    "\n",
    "h = model.fit_generator(training_generator,\n",
    "                        steps_per_epoch=len(x_train) // batch_size,\n",
    "                        validation_data=validation_generator,\n",
    "                        validation_steps=(len(x_train)*validation_split) // batch_size,\n",
    "                        class_weight=class_weight,\n",
    "                        epochs=epochs,\n",
    "                        verbose=1, callbacks=[early_stopping])"
   ]
  },
  {
   "cell_type": "markdown",
   "metadata": {},
   "source": [
    "### Model evaluation"
   ]
  },
  {
   "cell_type": "markdown",
   "metadata": {},
   "source": [
    "Let's now evaluate the resulting model:"
   ]
  },
  {
   "cell_type": "code",
   "execution_count": null,
   "metadata": {},
   "outputs": [],
   "source": [
    "print('Evaluating on training set to check misclassified samples:')\n",
    "labels_training_pred = model.predict(x_train, batch_size=batch_size, verbose=1)\n",
    "# XOR will show misclassified samples\n",
    "misclassified_train_mask = np.array(list(map(int, df.label[masks['training']]))).flatten() ^ \\\n",
    "                           np.array(list(map(int, np.rint(labels_training_pred)))).flatten()\n",
    "misclassified_train_mask = [ii for ii, mi in enumerate(misclassified_train_mask) if mi == 1]\n",
    "\n",
    "misclassifications_train = {int(c): [int(l), float(p)]\n",
    "                            for c, l, p in zip(df.candid.values[masks['training']][misclassified_train_mask],\n",
    "                                               df.label.values[masks['training']][misclassified_train_mask],\n",
    "                                               labels_training_pred[misclassified_train_mask])}\n",
    "# print(misclassifications_train)\n",
    "\n",
    "print('Evaluating on test set for loss and accuracy:')\n",
    "preds = model.evaluate(x_test, y_test, batch_size=batch_size, verbose=1)\n",
    "test_loss = float(preds[0])\n",
    "test_accuracy = float(preds[1])\n",
    "print(\"Loss = \" + str(test_loss))\n",
    "print(\"Test Accuracy = \" + str(test_accuracy))\n",
    "\n",
    "print('Evaluating on training set to check misclassified samples:')\n",
    "preds = model.predict(x=x_test, batch_size=batch_size, verbose=1)\n",
    "\n",
    "# XOR will show misclassified samples\n",
    "misclassified_test_mask = np.array(list(map(int, df.label[masks['test']]))).flatten() ^ \\\n",
    "                          np.array(list(map(int, np.rint(preds)))).flatten()\n",
    "misclassified_test_mask = [ii for ii, mi in enumerate(misclassified_test_mask) if mi == 1]\n",
    "\n",
    "misclassifications_test = {int(c): [int(l), float(p)]\n",
    "                           for c, l, p in zip(df.candid.values[masks['test']][misclassified_test_mask],\n",
    "                                              df.label.values[masks['test']][misclassified_test_mask],\n",
    "                                              preds[misclassified_test_mask])}\n",
    "\n",
    "# round probs to nearest int (0 or 1)\n",
    "labels_pred = np.rint(preds)"
   ]
  },
  {
   "cell_type": "markdown",
   "metadata": {},
   "source": [
    "#### Plot accuracy vs. epoch and Loss vs. epoch"
   ]
  },
  {
   "cell_type": "code",
   "execution_count": 2,
   "metadata": {},
   "outputs": [],
   "source": [
    "# YOUR CODE HERE"
   ]
  },
  {
   "cell_type": "markdown",
   "metadata": {},
   "source": [
    "#### Plot confusion matrices with score threshold=0.5"
   ]
  },
  {
   "cell_type": "code",
   "execution_count": 18,
   "metadata": {},
   "outputs": [],
   "source": [
    "# YOUR CODE HERE"
   ]
  },
  {
   "cell_type": "markdown",
   "metadata": {},
   "source": [
    "#### Plot False Negative Rate vs False Positive Rate"
   ]
  },
  {
   "cell_type": "code",
   "execution_count": 3,
   "metadata": {},
   "outputs": [],
   "source": [
    "# YOUR CODE HERE"
   ]
  },
  {
   "cell_type": "markdown",
   "metadata": {},
   "source": [
    "#### Plot ROC curve"
   ]
  },
  {
   "cell_type": "code",
   "execution_count": 4,
   "metadata": {},
   "outputs": [],
   "source": [
    "# YOUR CODE HERE"
   ]
  },
  {
   "cell_type": "markdown",
   "metadata": {},
   "source": [
    "#### Generate report"
   ]
  },
  {
   "cell_type": "code",
   "execution_count": null,
   "metadata": {},
   "outputs": [],
   "source": [
    "# generate training report in json format\n",
    "print('Generating report...')\n",
    "r = {'Run time stamp': run_t_stamp,\n",
    "     'Model name': model_name,\n",
    "     'Model trained': 'vgg6',\n",
    "     'Batch size': batch_size,\n",
    "     'Optimizer': optimizer,\n",
    "     'Requested number of train epochs': epochs,\n",
    "     'Early stopping after epochs': patience,\n",
    "     'Training+validation/test split': test_split,\n",
    "     'Training/validation split': validation_split,\n",
    "     'Weight training data by class': class_weight,\n",
    "     'Random state': random_state,\n",
    "     'Number of training examples': x_train.shape[0],\n",
    "     'Number of test examples': x_test.shape[0],\n",
    "     'X_train shape': x_train.shape,\n",
    "     'Y_train shape': y_train.shape,\n",
    "     'X_test shape': x_test.shape,\n",
    "     'Y_test shape': y_test.shape,\n",
    "     'Data augmentation': data_augmentation,\n",
    "     'Test loss': test_loss,\n",
    "     'Test accuracy': test_accuracy,\n",
    "     'Confusion matrix': confusion_matr.tolist(),\n",
    "     'Normalized confusion matrix': confusion_matr_normalized.tolist(),\n",
    "     'Misclassified test candids': list(misclassifications_test.keys()),\n",
    "     'Misclassified training candids': list(misclassifications_train.keys()),\n",
    "     'Test misclassifications': misclassifications_test,\n",
    "     'Training misclassifications': misclassifications_train,\n",
    "     'Training history': h.history\n",
    "     }\n",
    "for k in r['Training history'].keys():\n",
    "    r['Training history'][k] = np.array(r['Training history'][k]).tolist()\n",
    "\n",
    "# print(r)\n",
    "\n",
    "save_report(path='./', stamp=run_t_stamp, report=r)\n",
    "print('Done.')"
   ]
  },
  {
   "cell_type": "markdown",
   "metadata": {},
   "source": [
    "### Some real data"
   ]
  },
  {
   "cell_type": "code",
   "execution_count": 23,
   "metadata": {},
   "outputs": [],
   "source": [
    "def plot_triplet(tr):\n",
    "    fig = plt.figure(figsize=(8, 2), dpi=100)\n",
    "    ax = fig.add_subplot(131)\n",
    "    ax.axis('off')\n",
    "    ax.imshow(tr[:, :, 0], origin='upper', cmap=plt.cm.bone)\n",
    "    ax2 = fig.add_subplot(132)\n",
    "    ax2.axis('off')\n",
    "    ax2.imshow(tr[:, :, 1], origin='upper', cmap=plt.cm.bone)\n",
    "    ax3 = fig.add_subplot(133)\n",
    "    ax3.axis('off')\n",
    "    ax3.imshow(tr[:, :, 2], origin='upper', cmap=plt.cm.bone)\n",
    "    plt.show()"
   ]
  },
  {
   "cell_type": "code",
   "execution_count": 24,
   "metadata": {},
   "outputs": [],
   "source": [
    "#!wget -O 714287740515015072.json https://raw.githubusercontent.com/dmitryduev/braai/master/nb/714287740515015072.json\n",
    "#!wget -O 893215910715010007.json https://raw.githubusercontent.com/dmitryduev/braai/master/nb/893215910715010007.json"
   ]
  },
  {
   "cell_type": "code",
   "execution_count": null,
   "metadata": {},
   "outputs": [],
   "source": [
    "with open('714287740515015072.json', 'r') as f:\n",
    "    al = json.load(f)\n",
    "print(al['candidate']['rb'])\n",
    "tr = make_triplet(al)\n",
    "plot_triplet(tr)\n",
    "model.predict(np.expand_dims(tr, axis=0))"
   ]
  },
  {
   "cell_type": "code",
   "execution_count": null,
   "metadata": {},
   "outputs": [],
   "source": [
    "with open('893215910715010007.json', 'r') as f:\n",
    "    al = json.load(f)\n",
    "print(al['candidate']['rb'])\n",
    "tr = make_triplet(al)\n",
    "plot_triplet(tr)\n",
    "model.predict(np.expand_dims(tr, axis=0))"
   ]
  }
 ],
 "metadata": {
  "kernelspec": {
   "display_name": "Python 3 (ipykernel)",
   "language": "python",
   "name": "python3"
  },
  "language_info": {
   "codemirror_mode": {
    "name": "ipython",
    "version": 3
   },
   "file_extension": ".py",
   "mimetype": "text/x-python",
   "name": "python",
   "nbconvert_exporter": "python",
   "pygments_lexer": "ipython3",
   "version": "3.9.7"
  },
  "pycharm": {
   "stem_cell": {
    "cell_type": "raw",
    "metadata": {
     "collapsed": false
    },
    "source": []
   }
  }
 },
 "nbformat": 4,
 "nbformat_minor": 2
}
