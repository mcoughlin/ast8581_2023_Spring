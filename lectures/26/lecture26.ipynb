{
 "cells": [
  {
   "cell_type": "markdown",
   "id": "8c34e99d-8304-490a-a869-158a487aa135",
   "metadata": {},
   "source": [
    "## Week 14 (Wednesday), AST 8581 / PHYS 8581 / CSCI 8581: Big Data in Astrophysics"
   ]
  },
  {
   "cell_type": "markdown",
   "id": "9863a117-4094-45ff-8ee1-e340d654c53e",
   "metadata": {},
   "source": [
    "---"
   ]
  },
  {
   "cell_type": "markdown",
   "id": "d51e34ec-b8c1-4eb0-a0c5-bace1c6f28c8",
   "metadata": {},
   "source": [
    "# Reducing the data from Galaxy Zoo Mini\n",
    "\n",
    "Citizen science data typically comes in the form of \"classifications\". For example, below is an excerpt from a real classification provided to the Galaxy Zoo 2 project:\n",
    "```\n",
    "'classification_id': 166955279\n",
    "'user_name' 'not-logged-in-67b5f42546e2dcd6bcb1',\n",
    "'user_id' nan,\n",
    "'workflow_id': 10581,\n",
    "'workflow_name': 'Classic',\n",
    "'created_at': '2019-05-21 13:38:34 UTC':\n",
    "'subject_data': {'16215345': {'ra': 198.27742535025737, 'dec': -0.8980790615027351, 'nsa_id': 10288, 'iauname': 'J131306.57-005353.0', 'redshift': 0.08395665}},\n",
    "'annotations': [\n",
    "    {'task': 'T0',\n",
    "    'task_label': 'Is the galaxy simply smooth and rounded, with no sign of a disk?',\n",
    "    'value': 'Smooth'},\n",
    "    {'task': 'T1',\n",
    "    'task_label': 'How rounded is it?',\n",
    "    'value': 'Cigar-shaped'},\n",
    "    {'task': 'T11',\n",
    "    'task_label': 'Is the galaxy merging or disturbed?',\n",
    "    'value': None'},\n",
    "    {'task': 'T10',\n",
    "    'task_label': 'Do you see any of these rare features?',\n",
    "    'value': Nothing Unusual'}\n",
    "],\n",
    "\n",
    "```\n",
    "\n",
    "Let's break this down:\n",
    "- `user_id` is the volunteer ID who classified this subject\n",
    "- `subject_data` contains the galaxy's ID, and some useful info about it\n",
    "- `annotations` contains the information the volunteer provided\n",
    "\n",
    "Our goal is to take all of these classifications and reduce them into useable scientific data. **This process will have 3 steps:**\n",
    "1. Reduce these classifications into a useable format\n",
    "2. Determine the **vote fraction** for \"features or disk\" for each galaxy\n",
    "3. Identify (and deal with) **highly inaccurate volunteers**\n",
    "\n",
    "Then, we'll regroup and evaluate the reliability of our volunteer-provided data.\n"
   ]
  },
  {
   "cell_type": "code",
   "execution_count": null,
   "id": "3c5b5170-23ab-4209-b10b-4f1172707414",
   "metadata": {},
   "outputs": [],
   "source": [
    "import pandas as pd\n",
    "import numpy as np\n",
    "from matplotlib import pyplot as plt\n",
    "import json"
   ]
  },
  {
   "cell_type": "markdown",
   "id": "398514d9-05bc-4fc2-b75d-c4d12d889bde",
   "metadata": {},
   "source": [
    "### Step 1: Reduce the classifications into a useable format"
   ]
  },
  {
   "cell_type": "markdown",
   "id": "b8a54243-78df-4be9-b1ec-866b43c1cba9",
   "metadata": {},
   "source": [
    "- First, we'll open the data dump in Pandas and examine one row"
   ]
  },
  {
   "cell_type": "code",
   "execution_count": null,
   "id": "65e71123-f0c7-49fb-a1b9-2147421b3b80",
   "metadata": {},
   "outputs": [],
   "source": [
    "dfGZMiniData = pd.read_csv('galaxy_zoo_mini_data_dump.csv')\n",
    "\n",
    "print('FIRST ROW:')\n",
    "print(dfGZMiniData.iloc[0])\n",
    "print()\n",
    "print('subject_data:', dfGZMiniData.iloc[0]['subject_data'])\n",
    "print()\n",
    "print('annotations:', dfGZMiniData.iloc[0]['annotations'])"
   ]
  },
  {
   "cell_type": "markdown",
   "id": "243cd99e-6938-4149-aad1-e59b3be6e620",
   "metadata": {},
   "source": [
    "- There is important data in the columns \"subject_data\" and \"annotations\". These columns are stored as strings of text in a format called JSON (JavaScript Object Notation). Our first task is to load these into Python code with the function `json.loads`:"
   ]
  },
  {
   "cell_type": "code",
   "execution_count": null,
   "id": "3bc0b0e7-91d3-463d-9267-cba112abc3a9",
   "metadata": {},
   "outputs": [],
   "source": [
    "dfGZMiniData['subject_data_json'] = dfGZMiniData['subject_data'].apply(json.loads)\n",
    "dfGZMiniData['annotations_json'] = dfGZMiniData['annotations'].apply(json.loads)"
   ]
  },
  {
   "cell_type": "markdown",
   "id": "d1825770-20cc-476e-b305-759c2450ee20",
   "metadata": {},
   "source": [
    "- Next, we will extract two key pieces of information: The subject ID from `subject_data` and the volunteer's answer to the first task `T0`."
   ]
  },
  {
   "cell_type": "code",
   "execution_count": null,
   "id": "6c039fc6-7de8-4c7b-a5ba-16c8102d5454",
   "metadata": {},
   "outputs": [],
   "source": [
    "# From \"subject_data_json\", extracts each galaxy's Sloan Digital Sky Survey ID\n",
    "# From \"annotations_json\", extracts volunteer responses for the task \"T0\"\n",
    "sdss_id_list = []\n",
    "t0_answer_list = []\n",
    "for rowIndex in range(len(dfGZMiniData)):\n",
    "    dfGZMiniRow = dfGZMiniData.iloc[rowIndex]\n",
    "    \n",
    "    # Extracts the galaxy's SDSS specobjid value\n",
    "    subject_id_string = str(dfGZMiniRow['subject_id'])\n",
    "    subject_data_json = dfGZMiniRow['subject_data_json']\n",
    "    sdss_id = subject_data_json[subject_id_string]['sdss_specobjid']\n",
    "    \n",
    "    # Extracts the volunteer's answer value\n",
    "    annotations_json = dfGZMiniRow['annotations_json']\n",
    "    t0_answer = annotations_json[0]['value']\n",
    "    \n",
    "    # Appends these values to their respective lists\n",
    "    sdss_id_list.append(sdss_id)\n",
    "    t0_answer_list.append(t0_answer)\n",
    "\n",
    "dfGZMiniData['SDSS_specobjid'] = sdss_id_list\n",
    "dfGZMiniData['T0_answer'] = t0_answer_list\n",
    "\n",
    "# Finally, creates a new column that is \"1\" if \"T0_answer\"==\"Features or disk\", \"0\" if \"Smooth\"\n",
    "# YOUR CODE HERE\n",
    "dfGZMiniData['T0_answer_features_or_disk'] = ...\n"
   ]
  },
  {
   "cell_type": "code",
   "execution_count": null,
   "id": "db3ba1a9-698f-44d0-b954-4b4a16d9f265",
   "metadata": {},
   "outputs": [],
   "source": [
    "# Prints the first row of the now-modified data frame\n",
    "dfGZMiniData.iloc[0]"
   ]
  },
  {
   "cell_type": "markdown",
   "id": "9ea60f35-7dcb-41c0-8c66-4914d91fe415",
   "metadata": {},
   "source": [
    "### Step 2: Determine the vote fraction for \"features or disk\" for each galaxy"
   ]
  },
  {
   "cell_type": "markdown",
   "id": "f50f4e8f-4e90-494b-9f6a-502a39b93658",
   "metadata": {},
   "source": [
    "- For each subject, we now have to determine the fraction of volunteers who voted for the answer \"features or disk\".\n",
    "    - There are a number of ways to do this; for this exercise we will use the `pandas` functions `groupby` and `agg`.\n",
    "    - This will create a new data frame, called `dfSubjects`, with exactly 1 row per subject"
   ]
  },
  {
   "cell_type": "code",
   "execution_count": null,
   "id": "d0e0dbe0-a7e1-4cc6-8209-b8308d684d65",
   "metadata": {},
   "outputs": [],
   "source": [
    "# Groups the data frame by subject\n",
    "dfGZMiniData_SubjectGrouped = dfGZMiniData.groupby('subject_id')\n",
    "\n",
    "# Creates an \"aggregated\" data frame. This has 4 columns:\n",
    "# - sdss_specobjid: The ID of the galaxy in SDSS\n",
    "# - user_id_list: A list of the users who classified this galaxy\n",
    "# - T0_answer_features_or_disk_list: A list of all volunteer votes\n",
    "# - T0_answer_features_or_disk_mean: The fraction of volunteers who voted for \"features or disk\"\n",
    "dfSubjects = dfGZMiniData_SubjectGrouped.agg(\n",
    "    sdss_specobjid = pd.NamedAgg(column='SDSS_specobjid', aggfunc='first'),\n",
    "    user_id_list = pd.NamedAgg(column='user_id', aggfunc=list),\n",
    "    T0_answer_features_or_disk_list = pd.NamedAgg(column='T0_answer_features_or_disk', aggfunc=list),\n",
    "    T0_answer_features_or_disk_mean = pd.NamedAgg(column='T0_answer_features_or_disk', aggfunc=np.mean)\n",
    ")\n",
    "\n",
    "# Prints the first row of the \"subjects\" data frame\n",
    "print(dfSubjects.iloc[0])"
   ]
  },
  {
   "cell_type": "markdown",
   "id": "689a5015-d70a-4f02-b24d-2fa9b39c2913",
   "metadata": {},
   "source": [
    "- **Plot:** Make a histogram of the vote fractions for \"features or disk\" (stored in the `T0_answer_features_or_disk` column) for all of these galaxies. `plt.hist` from matplotlib may help\n",
    "    - About how many galaxies is the crowd \"certain\" about? How many are they evenly split on? "
   ]
  },
  {
   "cell_type": "code",
   "execution_count": null,
   "id": "86769075-a0a5-4ba9-8379-40c750047ad4",
   "metadata": {},
   "outputs": [],
   "source": [
    "# YOUR CODE HERE\n"
   ]
  },
  {
   "cell_type": "markdown",
   "id": "4dbab9d3-2890-433d-8590-47d9025deab0",
   "metadata": {},
   "source": [
    "- **Plot:** Now, select 10 galaxy IDs from the `SDSS_specobjid` that are very \"disky\" (high vote fraction), 10 that are very \"smooth\" (low vote fraction), and 10 that are in the middle. Use the `plotGalaxyImages` function below to plot each of these.\n",
    "    - The \"very disky\" galaxies are provided as an example"
   ]
  },
  {
   "cell_type": "code",
   "execution_count": null,
   "id": "fc3cfa84-4852-4cc7-afff-4dea0485973c",
   "metadata": {},
   "outputs": [],
   "source": [
    "''' Takes in a list of 10 galaxy `specobjids` and 10 `vote_fractions` provided by volunteers\n",
    "Plots these galaxies and labels them by their vote fractions\n",
    "\n",
    "specobjids: List of the 10 galaxy specobjids from SDSS to plot\n",
    "vote_fractions: List of the volunteer vote fraction for each galaxy (to display above the image)\n",
    "suptitle: Supertitle for the plot (ignored by default)\n",
    "'''\n",
    "def plotGalaxyImages(specobjids, vote_fractions, suptitle=None):\n",
    "    rows, cols = 2, 5\n",
    "    fig, axes = plt.subplots(rows, cols, figsize=(cols*4, rows*4+1))\n",
    "    for idx, (ax, soi) in enumerate(zip(axes.ravel(), specobjids)):\n",
    "        img = plt.imread('galaxy_pngs/%i.png' % soi)\n",
    "        \n",
    "        # Emphasizes the blue color band \n",
    "        img[:,:,2] = (img[:,:,2])**0.8\n",
    "        ax.imshow(img)\n",
    "        ax.xaxis.set_visible(False)\n",
    "        ax.yaxis.set_visible(False)\n",
    "        ax.set_title('Features or disk: %.3f' % vote_fractions[idx])\n",
    "    if suptitle: plt.suptitle(suptitle, fontsize=16)\n",
    "    plt.show()"
   ]
  },
  {
   "cell_type": "code",
   "execution_count": null,
   "id": "035d37b7-a8d9-4242-941f-ed46dbd50a62",
   "metadata": {},
   "outputs": [],
   "source": [
    "# Plot 10 very \"disky\" galaxies according to the crowd's votes \n",
    "\n",
    "dfSubjects_disky = dfSubjects[dfSubjects['T0_answer_features_or_disk_mean'] > 0.8]\n",
    "\n",
    "specobjids = dfSubjects_disky['sdss_specobjid'].values[:10]\n",
    "vote_fractions = dfSubjects_disky['T0_answer_features_or_disk_mean'].values[:10]\n",
    "plotGalaxyImages(specobjids, vote_fractions, suptitle='Disky')\n",
    "\n",
    "\n",
    "# Plot 10 very \"smooth\" galaxies according to the crowd's votes \n",
    "# YOUR CODE HERE\n",
    "\n",
    "\n",
    "# Plot 10 \"ambiguous/uncertain\" galaxies according to the crowd's votes \n",
    "# YOUR CODE HERE\n",
    "\n"
   ]
  },
  {
   "cell_type": "markdown",
   "id": "485d3857-25da-44d5-bc64-b74bc048d044",
   "metadata": {},
   "source": [
    "Nice! We now have approximate vote fractions that capture whether our galaxies are just smooth & rounded, or if they have disks or other interesting features.\n",
    "- In Galaxy Zoo 2, this question would be followed up by more targeted questions: For example, if a volunteer answered \"features or disk\", they would be asked for more details about the galaxy's \"features\".\n",
    "\n",
    "However, what if a volunteer didn't read the instructions... or just clicked on the \"opposite\" answer each time to mess with the scientists? (Unfortunately, a few volunteers for Galaxy Zoo projects actually do this.) We need to make sure these highly inaccurate classifications don't negatively impact the results.\n",
    "\n",
    "### Step 3: Identify (and deal with) highly-inaccurate volunteers\n",
    "\n",
    "Our goal in step 3 is to determine each volunteer's **\"mean consistency\"**, which measures their average agreement with other volunteers. If a volunteer's consistency is very low, it is likely they didn't read the instructions, or they may be purposely voting incorrectly.\n",
    "- For this project, \"consistency\" is simply the **fraction of volunteers who voted the same as they did** on each subject.\n",
    "- (Note - consistency can be more complex if a question has multiple possible answers.)\n",
    "\n",
    "First, we will need to **group these classifications by volunteer ID**. We will do this by creating a new data frame using `groupby` and `agg`, like we did for the subjects:"
   ]
  },
  {
   "cell_type": "code",
   "execution_count": null,
   "id": "26aed2e8-9d40-4d8d-af9c-1cabe7345445",
   "metadata": {},
   "outputs": [],
   "source": [
    "dfVolunteers = dfGZMiniData.groupby('user_id').agg(\n",
    "    num_subjects_classified = pd.NamedAgg(column='subject_id', aggfunc=len),\n",
    "    subject_ids_classified = pd.NamedAgg(column='subject_id', aggfunc=list),\n",
    "    T0_features_or_disk_answers = pd.NamedAgg(column='T0_answer_features_or_disk', aggfunc=list)\n",
    ")"
   ]
  },
  {
   "cell_type": "markdown",
   "id": "3db95563-e111-478c-8cac-8e315bc1b95b",
   "metadata": {},
   "source": [
    "We can use this data frame to see some statistics about the volunteer distribution.\n",
    "\n",
    "**Plot:** In the cell below, plot a histogram of  the number of subjects classified by each volunteer (`dfVolunteers['num_subjects_classified']`)\n",
    "- Notice that many volunteers classified only 5-10 subjects, while others classified over 100."
   ]
  },
  {
   "cell_type": "code",
   "execution_count": null,
   "id": "aa61432d-0ff8-49b0-ae27-f1aaa952da4b",
   "metadata": {},
   "outputs": [],
   "source": [
    "# YOUR CODE HERE\n"
   ]
  },
  {
   "cell_type": "markdown",
   "id": "3469142a-708c-4197-94d0-8f5a11384776",
   "metadata": {},
   "source": [
    "Next, we'll use this data frame to compute the **mean consistency of each volunteer**, averaged over all of the subjects they classified."
   ]
  },
  {
   "cell_type": "code",
   "execution_count": null,
   "id": "a1285468-03f0-4174-8ede-8391fd3cb016",
   "metadata": {},
   "outputs": [],
   "source": [
    "# Adds the mean consistency to each volunteer list\n",
    "\n",
    "volunteer_mean_consistencies = []\n",
    "\n",
    "# For each volunteer:\n",
    "for user_id in dfVolunteers.index:\n",
    "    dfVolunteersRow = dfVolunteers.loc[user_id]\n",
    "    \n",
    "    volunteer_consistencies = []\n",
    "    \n",
    "    # For each subject the volunteer classified:\n",
    "    for subject_id, volunteer_picked_features_or_disk in zip(dfVolunteersRow['subject_ids_classified'], dfVolunteersRow['T0_features_or_disk_answers']):\n",
    "        dfSubjectsRow = dfSubjects.loc[subject_id]\n",
    "        \n",
    "        # Note the agreement (\"consistency\") between this volunteer and others who classified the same subject\n",
    "        subject_features_or_disk_vote_fraction = dfSubjectsRow['T0_answer_features_or_disk_mean']\n",
    "        \n",
    "        # We need to compute consistency, which is equal the fraction of volunteers\n",
    "        # who voted the same as this volunteer\n",
    "        #\n",
    "        # Use the variables `subject_features_or_disk_vote_fraction` and\n",
    "        # `volunteer_picked_features_or_disk` to help you\n",
    "        #\n",
    "        # YOUR CODE HERE\n",
    "        if volunteer_picked_features_or_disk:\n",
    "            consistency = subject_features_or_disk_vote_fraction\n",
    "        else:\n",
    "            consistency = 1-subject_features_or_disk_vote_fraction\n",
    "        \n",
    "        volunteer_consistencies.append(consistency)\n",
    "    \n",
    "    # Now, take the average consistency for this volunteer\n",
    "    volunteer_mean_consistencies.append(np.mean(volunteer_consistencies))\n",
    "\n",
    "# Add this as a column to the volunteer dataframe\n",
    "dfVolunteers['mean_consistency'] = volunteer_mean_consistencies"
   ]
  },
  {
   "cell_type": "markdown",
   "id": "675077d0-2451-429c-a4f6-545a7d83b6d7",
   "metadata": {},
   "source": [
    "**Plot:** In the cell below, make a scatterplot of the **mean consistency of volunteers** (from `dfVolunteers['mean_consistency']`) vs. the **number of subjects they classified** (from `dfVolunteers['num_subjects_classified']`).\n",
    "\n",
    "- **Take note:** What do you notice about the volunteers with very low consistencies?"
   ]
  },
  {
   "cell_type": "code",
   "execution_count": null,
   "id": "d6ccbeb9-3deb-4f33-9d4c-20fbba6015c1",
   "metadata": {},
   "outputs": [],
   "source": [
    "# YOUR CODE HERE\n",
    "# plt.scatter(...\n",
    "\n",
    "plt.xlabel('Number of subjects classified')\n",
    "plt.ylabel('Mean consistency')"
   ]
  },
  {
   "cell_type": "markdown",
   "id": "1bae6595-31e8-44af-832e-44abc3889a7f",
   "metadata": {},
   "source": [
    "Remember, consistency measures a volunteer's agreement with the crowd.\n",
    "- A consistency of ~0.5 means that a volunteer is effectively classifying things at random\n",
    "- A consistency of <0.5 suggests that the volunteer may be picking the wrong answers on purpose\n",
    "\n",
    "We will now apply a \"weight\" to each volunteer. First, we will use the actual formula that was used by Galaxy Zoo 2: Volunteers with **consistencies above 0.6** will be left alone, while those with **consistencies below 0.6** will have their votes \"downweighted\" in the calculations."
   ]
  },
  {
   "cell_type": "code",
   "execution_count": null,
   "id": "b0e13649-05b8-4c3b-b16f-8801b5842729",
   "metadata": {},
   "outputs": [],
   "source": [
    "def get_volunteer_weight(mean_consistency):\n",
    "    return min(1, (mean_consistency/0.6)**8.5) \n",
    "\n",
    "dfVolunteers['vote_weight'] = [get_volunteer_weight(c) for c in dfVolunteers['mean_consistency']]"
   ]
  },
  {
   "cell_type": "markdown",
   "id": "5b18cdfd-6d79-4b01-898f-59d514c593c5",
   "metadata": {},
   "source": [
    "Finally, we will recalculate the vote fractions using these volunteer weights.\n",
    "- In the cell below, complete the line that computes the weighted vote fraction for each subject."
   ]
  },
  {
   "cell_type": "code",
   "execution_count": null,
   "id": "662025b2-b16a-4bcb-a13c-e50f9a18d489",
   "metadata": {},
   "outputs": [],
   "source": [
    "# Reweights the vote averages using the weighted votes\n",
    "\n",
    "weighted_vote_fractions = []\n",
    "\n",
    "# For each subject...\n",
    "for rowIdx, dfSubjectsRow in dfSubjects.iterrows():\n",
    "    # Take the user IDs of all volunteers who classified the subject\n",
    "    user_ids = dfSubjectsRow['user_id_list']\n",
    "    \n",
    "    # Get the volunteer weights from the user IDs\n",
    "    votes = np.array(dfSubjectsRow['T0_answer_features_or_disk_list'])\n",
    "    weights = np.array([dfVolunteers.loc[user_id]['vote_weight'] for user_id in user_ids])\n",
    "    \n",
    "    # Compute the *weighted* vote fractions for each subject\n",
    "    # This is equal to the sum of votes * weights, divided by the sum of the weights\n",
    "    \n",
    "    # YOUR CODE HERE\n",
    "    \n",
    "# Assign the weighted vote fractions to a new column\n",
    "dfSubjects['T0_answer_features_or_disk_weighted'] = weighted_vote_fractions"
   ]
  },
  {
   "cell_type": "markdown",
   "id": "b19a0d1f-5ba6-464e-bde8-705bd2261e60",
   "metadata": {},
   "source": [
    "**Plot:** In the cell below, make a scatterplot of the weighted vote fraction (`dfSubjects['T0_answer_features_or_disk_mean']`) versus the original, unweighted vote fraction (`dfSubjects['T0_answer_features_or_disk_weighted']`).\n",
    "\n",
    "- **Experiment:** What happens to this plot if you rerun the code with a different \"weight\" formula? (Eg: Assigning each volunteer a weight proportional to their consistency?)"
   ]
  },
  {
   "cell_type": "code",
   "execution_count": null,
   "id": "c01c8770-5ac6-4cc2-b5e8-9cc8d82b0ead",
   "metadata": {},
   "outputs": [],
   "source": [
    "# YOUR CODE HERE\n",
    "# plt.scatter(...\n",
    "\n",
    "# Adds a 1-1 line, a grid, and axis labels\n",
    "plt.plot([0,1], [0,1], color='r')\n",
    "plt.grid()\n",
    "plt.xlabel('Vote fraction (before weighting)')\n",
    "plt.ylabel('Vote fraction (after weighting)')"
   ]
  },
  {
   "cell_type": "markdown",
   "id": "5908129e-2075-48b9-b317-d4e6cf156d39",
   "metadata": {},
   "source": [
    "### Takeaways\n",
    "\n",
    "The results here are very similar to what is described in the Galaxy Zoo 2 release paper ([Willet et al. 2013](https://arxiv.org/pdf/1308.3496.pdf)).\n",
    "- Volunteers are able to identify **clear disks** and **clear smooth galaxies**, with an ambiguous group in between.\n",
    "- A small group of volunteers (<10%) classified things at random, or worse.\n",
    "    - However, most of these volunteers classified only ~10 galaxies before stopping. Their classifications did not overwhelm the dataset.\n",
    "- **Overall, the crowd consensus for each galaxy is stable**. Volunteers generally achieve 60-80% agreement, and this is barely affected by the 5-10% of volunteers who were very inaccurate.\n",
    "\n",
    "Note that, for this sort of question, 60-80% agreement between volunteers is reasonable. This can change for more complex or difficult questions -- particularly if volunteers aren't very well instructed on what to do!"
   ]
  },
  {
   "cell_type": "markdown",
   "id": "808ea532-744a-4b13-9219-a3b2e2c871de",
   "metadata": {},
   "source": [
    "---"
   ]
  },
  {
   "cell_type": "markdown",
   "id": "60c92f37-807e-4c87-aa63-d02e3762729c",
   "metadata": {},
   "source": [
    "# Using Galaxy Zoo Mini for science\n",
    "\n",
    "So far, we've computed the vote fractions for \"Features or disk\" vs. \"smooth\" for our sample of 190 galaxies from Galaxy Zoo Mini. But why? In fact, before citizen science techniques were used, it was very difficult to select for large samples of \"smooth\" or \"disk\" galaxies without an astronomer examining each of them visually.\n",
    "\n",
    "As a way of getting around this, **many astronomers used (and still use!) COLOR as a proxy for galaxy morphology**. To select for \"smooth\" galaxies, redder galaxies were used, with bluer colors used to select \"disks\". This was not done with accuracy in mind; instead, color was just much easier to measure than morphology for this sample.\n",
    "\n",
    "However, according to [Smethurst et al. 2022](https://arxiv.org/pdf/2112.04507.pdf), **color is NOT a good way of selecting for galaxy morphology.** Many galaxies with red color actually have disk-like morphologies (and vice-versa).\n",
    "\n",
    "- If you'd like to learn more, the first author of this paper (Rebecca Smethurst) made a [Youtube video explaining the paper in more detail](https://www.youtube.com/watch?v=H6UBjbio5-A).\n",
    "\n",
    "In this activity, we will repeat the Smethurst et al. experiment by comparing the **colors** and **volunteer-identified morphologies** of galaxies in the Galaxy Zoo Mini sample."
   ]
  },
  {
   "cell_type": "markdown",
   "id": "56628383-0b25-480e-bd13-1d342c69107e",
   "metadata": {},
   "source": [
    "First, we'll load a database of the magnitudes of these galaxies in each of the five SDSS color bands, (u,g,r,i,z).\n",
    "- We'll then merge this data with the `dfSubjects` data containing vote fractions for each galaxy.\n",
    "- We'll also compute the \"color\" of each galaxy, defined as $g-r$ (the magnitude in the SDSS g band minus the magnitude in the r band)"
   ]
  },
  {
   "cell_type": "code",
   "execution_count": null,
   "id": "0e58b8c5-e9b3-4641-8d7d-ae597775e463",
   "metadata": {},
   "outputs": [],
   "source": [
    "# Loads the photometry data frame\n",
    "dfGZMiniPhotometry = pd.read_csv('galaxy_zoo_mini_photometry.csv')\n",
    "\n",
    "# Merges it with the data frame with Galaxy Zoo Mini subject information\n",
    "dfSubjectsPhotometry = dfSubjects.merge(\n",
    "    dfGZMiniPhotometry,\n",
    "    how='inner',\n",
    "    left_on='sdss_specobjid',\n",
    "    right_on='specobjid'\n",
    ")\n",
    "\n",
    "# Computes g-r color\n",
    "dfSubjectsPhotometry['g-r_color'] = dfSubjectsPhotometry['petroMag_g'] - dfSubjectsPhotometry['petroMag_r']\n",
    "\n",
    "print('FIRST ROW:')\n",
    "print(dfSubjectsPhotometry.iloc[0])"
   ]
  },
  {
   "cell_type": "markdown",
   "id": "110f7782-bf32-4415-9632-dffeec9696bf",
   "metadata": {},
   "source": [
    "- According to Smethurst et al. 2022, the best way of dividing galaxies into different morphologies is by splitting them at $g-r = 0.74$:\n",
    "    - Galaxies with $g-r > 0.74$ are redder, so we will assume they are smooth\n",
    "    - Galaxies with $g-r < 0.74$ are bluer, so we will assume they are disks\n",
    "- **Plot:** In the cell below, make a scatterplot of galaxy color (`g-r color`, y-axis) vs. morphology (`T0_answer_features_or_disk_weighted`, x-axis)."
   ]
  },
  {
   "cell_type": "code",
   "execution_count": null,
   "id": "1948b11f-b74f-4b9e-888a-1dafc607c645",
   "metadata": {},
   "outputs": [],
   "source": [
    "gr_color_cut = 0.74\n",
    "\n",
    "# YOUR CODE HERE\n",
    "# plt.scatter(...\n",
    "# plt.xlabel(...\n",
    "# plt.ylabel(..."
   ]
  },
  {
   "cell_type": "markdown",
   "id": "f283862d-0838-48f8-a481-868540fc1569",
   "metadata": {},
   "source": [
    "You should be able to see that there is **no color cut** that can neatly divide volunteer-identified disks from spirals! If you selected on color alone, the purity of your samples would be very low... at least, assuming that the volunteer labels are accurate.\n",
    "\n",
    "Let's finish by examining what these galaxies look like. In the cell below, we will plot both red ($g-r > 0.74$) and blue ($g-r < 0.74$) galaxies, dividing them between disk (with `T0_answer_features_or_disk_weighted`$ > 0.8$) and smooth disks (with `T0_answer_features_or_disk_weighted`$ < 0.2$)"
   ]
  },
  {
   "cell_type": "code",
   "execution_count": null,
   "id": "0ba88f8f-1861-41ed-8cca-4755b2584926",
   "metadata": {},
   "outputs": [],
   "source": [
    "# Plots a stamp sheet of 10 blue disks (g-r color < 0.74, weighted vote fraction > 0.8)\n",
    "\n",
    "blue_disks = dfSubjectsPhotometry[\n",
    "    (dfSubjectsPhotometry['g-r_color'] < 0.74) &\n",
    "    (dfSubjectsPhotometry['T0_answer_features_or_disk_weighted'] > 0.8)\n",
    "].iloc[:10]\n",
    "plotGalaxyImages(\n",
    "    blue_disks['specobjid'].values,\n",
    "    blue_disks['T0_answer_features_or_disk_weighted'].values,\n",
    "    'Blue disks'\n",
    ")\n",
    "\n",
    "# Plot a similar galaxy stamp sheet for blue smooth, red disk, and red smooth galaxies.\n",
    "#\n",
    "# Following Smethurst+22:\n",
    "# - Use T0_answer_features_or_disk_weighted > 0.8 to select disks\n",
    "# - Use T0_answer_features_or_disk_weighted < 0.2 to select smooth galaxies\n",
    "#\n",
    "# YOUR CODE HERE\n"
   ]
  },
  {
   "cell_type": "markdown",
   "id": "9037c600-c9de-4bc4-ad76-f7b317750213",
   "metadata": {},
   "source": [
    "If your group has time, you can try computing the **purity** of the disk sample you would select using each of these color cuts.\n",
    "- That is: What fraction of blue galaxies are are actually disks, according to the volunteers? (Same with red and smooth galaxies.)"
   ]
  },
  {
   "cell_type": "code",
   "execution_count": null,
   "id": "cf2d3f86-3f5a-4d3a-b0df-b2067e03a23d",
   "metadata": {},
   "outputs": [],
   "source": [
    "# YOUR CODE HERE"
   ]
  }
 ],
 "metadata": {
  "kernelspec": {
   "display_name": "Python 3 (ipykernel)",
   "language": "python",
   "name": "python3"
  },
  "language_info": {
   "codemirror_mode": {
    "name": "ipython",
    "version": 3
   },
   "file_extension": ".py",
   "mimetype": "text/x-python",
   "name": "python",
   "nbconvert_exporter": "python",
   "pygments_lexer": "ipython3",
   "version": "3.9.5"
  }
 },
 "nbformat": 4,
 "nbformat_minor": 5
}
